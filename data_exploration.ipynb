{
 "cells": [
  {
   "cell_type": "code",
   "execution_count": 1,
   "metadata": {},
   "outputs": [
    {
     "name": "stderr",
     "output_type": "stream",
     "text": [
      "c:\\Users\\macie\\anaconda3\\lib\\site-packages\\scipy\\__init__.py:146: UserWarning: A NumPy version >=1.16.5 and <1.23.0 is required for this version of SciPy (detected version 1.26.4\n",
      "  warnings.warn(f\"A NumPy version >={np_minversion} and <{np_maxversion}\"\n"
     ]
    }
   ],
   "source": [
    "import numpy as np\n",
    "import pandas as pd\n",
    "import seaborn as sns\n",
    "from matplotlib import pyplot as plt\n",
    "import gensim"
   ]
  },
  {
   "cell_type": "code",
   "execution_count": 5,
   "metadata": {},
   "outputs": [],
   "source": [
    "tweets = pd.read_csv(\".//data//tweets.csv\", encoding=\"latin-1\")\n"
   ]
  },
  {
   "cell_type": "code",
   "execution_count": 6,
   "metadata": {},
   "outputs": [
    {
     "name": "stdout",
     "output_type": "stream",
     "text": [
      "<class 'pandas.core.frame.DataFrame'>\n",
      "RangeIndex: 1048575 entries, 0 to 1048574\n",
      "Data columns (total 6 columns):\n",
      " #   Column  Non-Null Count    Dtype \n",
      "---  ------  --------------    ----- \n",
      " 0   Target  1048575 non-null  int64 \n",
      " 1   ID      1048575 non-null  int64 \n",
      " 2   Date    1048575 non-null  object\n",
      " 3   flag    1048575 non-null  object\n",
      " 4   User    1048575 non-null  object\n",
      " 5   Text    1048575 non-null  object\n",
      "dtypes: int64(2), object(4)\n",
      "memory usage: 48.0+ MB\n"
     ]
    }
   ],
   "source": [
    "tweets.info()"
   ]
  },
  {
   "cell_type": "code",
   "execution_count": 7,
   "metadata": {},
   "outputs": [
    {
     "data": {
      "text/plain": [
       "248576"
      ]
     },
     "execution_count": 7,
     "metadata": {},
     "output_type": "execute_result"
    }
   ],
   "source": [
    "tweets[\"Target\"].value_counts().min()"
   ]
  },
  {
   "cell_type": "code",
   "execution_count": 8,
   "metadata": {},
   "outputs": [
    {
     "data": {
      "image/png": "[encoded data removed]",
      "text/plain": [
       "<Figure size 1296x864 with 2 Axes>"
      ]
     },
     "metadata": {
      "needs_background": "light"
     },
     "output_type": "display_data"
    }
   ],
   "source": [
    "tweets.hist(bins = 40, figsize=(18, 12))\n",
    "\n",
    "plt.show()"
   ]
  },
  {
   "cell_type": "code",
   "execution_count": 9,
   "metadata": {},
   "outputs": [
    {
     "data": {
      "text/html": [
       "<div>\n",
       "<style scoped>\n",
       "    .dataframe tbody tr th:only-of-type {\n",
       "        vertical-align: middle;\n",
       "    }\n",
       "\n",
       "    .dataframe tbody tr th {\n",
       "        vertical-align: top;\n",
       "    }\n",
       "\n",
       "    .dataframe thead th {\n",
       "        text-align: right;\n",
       "    }\n",
       "</style>\n",
       "<table border=\"1\" class=\"dataframe\">\n",
       "  <thead>\n",
       "    <tr style=\"text-align: right;\">\n",
       "      <th></th>\n",
       "      <th>Target</th>\n",
       "      <th>ID</th>\n",
       "      <th>Date</th>\n",
       "      <th>flag</th>\n",
       "      <th>User</th>\n",
       "      <th>Text</th>\n",
       "    </tr>\n",
       "  </thead>\n",
       "  <tbody>\n",
       "    <tr>\n",
       "      <th>0</th>\n",
       "      <td>0</td>\n",
       "      <td>1467810672</td>\n",
       "      <td>Mon Apr 06 22:19:49 PDT 2009</td>\n",
       "      <td>NO_QUERY</td>\n",
       "      <td>scotthamilton</td>\n",
       "      <td>is upset that he can't update his Facebook by ...</td>\n",
       "    </tr>\n",
       "    <tr>\n",
       "      <th>1</th>\n",
       "      <td>0</td>\n",
       "      <td>1467810917</td>\n",
       "      <td>Mon Apr 06 22:19:53 PDT 2009</td>\n",
       "      <td>NO_QUERY</td>\n",
       "      <td>mattycus</td>\n",
       "      <td>@Kenichan I dived many times for the ball. Man...</td>\n",
       "    </tr>\n",
       "    <tr>\n",
       "      <th>2</th>\n",
       "      <td>0</td>\n",
       "      <td>1467811184</td>\n",
       "      <td>Mon Apr 06 22:19:57 PDT 2009</td>\n",
       "      <td>NO_QUERY</td>\n",
       "      <td>ElleCTF</td>\n",
       "      <td>my whole body feels itchy and like its on fire</td>\n",
       "    </tr>\n",
       "    <tr>\n",
       "      <th>3</th>\n",
       "      <td>0</td>\n",
       "      <td>1467811193</td>\n",
       "      <td>Mon Apr 06 22:19:57 PDT 2009</td>\n",
       "      <td>NO_QUERY</td>\n",
       "      <td>Karoli</td>\n",
       "      <td>@nationwideclass no, it's not behaving at all....</td>\n",
       "    </tr>\n",
       "    <tr>\n",
       "      <th>4</th>\n",
       "      <td>0</td>\n",
       "      <td>1467811372</td>\n",
       "      <td>Mon Apr 06 22:20:00 PDT 2009</td>\n",
       "      <td>NO_QUERY</td>\n",
       "      <td>joy_wolf</td>\n",
       "      <td>@Kwesidei not the whole crew</td>\n",
       "    </tr>\n",
       "  </tbody>\n",
       "</table>\n",
       "</div>"
      ],
      "text/plain": [
       "   Target          ID                          Date      flag           User  \\\n",
       "0       0  1467810672  Mon Apr 06 22:19:49 PDT 2009  NO_QUERY  scotthamilton   \n",
       "1       0  1467810917  Mon Apr 06 22:19:53 PDT 2009  NO_QUERY       mattycus   \n",
       "2       0  1467811184  Mon Apr 06 22:19:57 PDT 2009  NO_QUERY        ElleCTF   \n",
       "3       0  1467811193  Mon Apr 06 22:19:57 PDT 2009  NO_QUERY         Karoli   \n",
       "4       0  1467811372  Mon Apr 06 22:20:00 PDT 2009  NO_QUERY       joy_wolf   \n",
       "\n",
       "                                                Text  \n",
       "0  is upset that he can't update his Facebook by ...  \n",
       "1  @Kenichan I dived many times for the ball. Man...  \n",
       "2    my whole body feels itchy and like its on fire   \n",
       "3  @nationwideclass no, it's not behaving at all....  \n",
       "4                      @Kwesidei not the whole crew   "
      ]
     },
     "execution_count": 9,
     "metadata": {},
     "output_type": "execute_result"
    }
   ],
   "source": [
    "tweets.head()"
   ]
  },
  {
   "cell_type": "code",
   "execution_count": 10,
   "metadata": {},
   "outputs": [
    {
     "data": {
      "text/plain": [
       "0          is upset that he can't update his Facebook by ...\n",
       "1          @Kenichan I dived many times for the ball. Man...\n",
       "2            my whole body feels itchy and like its on fire \n",
       "3          @nationwideclass no, it's not behaving at all....\n",
       "4                              @Kwesidei not the whole crew \n",
       "                                 ...                        \n",
       "1048570             My GrandMa is making Dinenr with my Mum \n",
       "1048571    Mid-morning snack time... A bowl of cheese noo...\n",
       "1048572    @ShaDeLa same here  say it like from the Termi...\n",
       "1048573               @DestinyHope92 im great thaanks  wbuu?\n",
       "1048574                 cant wait til her date this weekend \n",
       "Name: Text, Length: 1048575, dtype: object"
      ]
     },
     "execution_count": 10,
     "metadata": {},
     "output_type": "execute_result"
    }
   ],
   "source": [
    "tweets.shape\n",
    "tweets.Text"
   ]
  },
  {
   "cell_type": "code",
   "execution_count": 11,
   "metadata": {},
   "outputs": [
    {
     "data": {
      "text/plain": [
       "\"is upset that he can't update his Facebook by texting it... and might cry as a result  School today also. Blah!\""
      ]
     },
     "execution_count": 11,
     "metadata": {},
     "output_type": "execute_result"
    }
   ],
   "source": [
    "tweets.iloc[0]['Text']\n",
    "\n"
   ]
  },
  {
   "cell_type": "markdown",
   "metadata": {},
   "source": [
    "****WORD2VEC 41,42 tutorial film****\n"
   ]
  },
  {
   "cell_type": "code",
   "execution_count": 12,
   "metadata": {},
   "outputs": [
    {
     "data": {
      "text/plain": [
       "0          [is, upset, that, he, can, update, his, facebo...\n",
       "1          [kenichan, dived, many, times, for, the, ball,...\n",
       "2          [my, whole, body, feels, itchy, and, like, its...\n",
       "3          [nationwideclass, no, it, not, behaving, at, a...\n",
       "4                          [kwesidei, not, the, whole, crew]\n",
       "                                 ...                        \n",
       "1048570     [my, grandma, is, making, dinenr, with, my, mum]\n",
       "1048571    [mid, morning, snack, time, bowl, of, cheese, ...\n",
       "1048572    [shadela, same, here, say, it, like, from, the...\n",
       "1048573              [destinyhope, im, great, thaanks, wbuu]\n",
       "1048574          [cant, wait, til, her, date, this, weekend]\n",
       "Name: Text, Length: 1048575, dtype: object"
      ]
     },
     "execution_count": 12,
     "metadata": {},
     "output_type": "execute_result"
    }
   ],
   "source": [
    "tweet_text = tweets.Text.apply(gensim.utils.simple_preprocess)\n",
    "tweet_text"
   ]
  },
  {
   "cell_type": "code",
   "execution_count": 9,
   "metadata": {},
   "outputs": [],
   "source": [
    "model = gensim.models.Word2Vec(\n",
    "    window=10, # The maximum distance between the current and predicted word within a sentence.\n",
    "    min_count=1, # Ignores all words with total frequency lower than this.\n",
    "    workers=8 # Use these many worker threads to train the model (=faster training with multicore machines).\n",
    ")"
   ]
  },
  {
   "cell_type": "code",
   "execution_count": 10,
   "metadata": {},
   "outputs": [],
   "source": [
    "model.build_vocab(tweet_text, progress_per=1000)"
   ]
  },
  {
   "cell_type": "code",
   "execution_count": 11,
   "metadata": {},
   "outputs": [
    {
     "data": {
      "text/plain": [
       "5"
      ]
     },
     "execution_count": 11,
     "metadata": {},
     "output_type": "execute_result"
    }
   ],
   "source": [
    "model.epochs"
   ]
  },
  {
   "cell_type": "code",
   "execution_count": 12,
   "metadata": {},
   "outputs": [
    {
     "data": {
      "text/plain": [
       "1048575"
      ]
     },
     "execution_count": 12,
     "metadata": {},
     "output_type": "execute_result"
    }
   ],
   "source": [
    "model.corpus_count"
   ]
  },
  {
   "cell_type": "code",
   "execution_count": 13,
   "metadata": {},
   "outputs": [
    {
     "data": {
      "text/plain": [
       "(54085043, 65609990)"
      ]
     },
     "execution_count": 13,
     "metadata": {},
     "output_type": "execute_result"
    }
   ],
   "source": [
    "model.train(tweet_text, total_examples=model.corpus_count, epochs=model.epochs) # train the model"
   ]
  },
  {
   "cell_type": "code",
   "execution_count": 14,
   "metadata": {},
   "outputs": [],
   "source": [
    "model.save(\"./word2vec-twitter-text.model\")"
   ]
  },
  {
   "cell_type": "code",
   "execution_count": 30,
   "metadata": {},
   "outputs": [
    {
     "data": {
      "text/plain": [
       "0.5308738"
      ]
     },
     "execution_count": 30,
     "metadata": {},
     "output_type": "execute_result"
    }
   ],
   "source": [
    "model.wv.most_similar(\"bad\")\n",
    "model.wv.similarity(\"good\", \"awful\")"
   ]
  },
  {
   "cell_type": "code",
   "execution_count": 16,
   "metadata": {},
   "outputs": [
    {
     "name": "stderr",
     "output_type": "stream",
     "text": [
      "c:\\Users\\macie\\anaconda3\\lib\\site-packages\\numpy\\core\\fromnumeric.py:3504: RuntimeWarning: Mean of empty slice.\n",
      "  return _methods._mean(a, axis=axis, dtype=dtype,\n"
     ]
    }
   ],
   "source": [
    "tweets['Positivity'] = tweets['Text'].apply(lambda text: np.mean([model.wv.similarity(word, 'good') for word in gensim.utils.simple_preprocess(text)]))\n"
   ]
  },
  {
   "cell_type": "code",
   "execution_count": 20,
   "metadata": {},
   "outputs": [
    {
     "data": {
      "text/html": [
       "<div>\n",
       "<style scoped>\n",
       "    .dataframe tbody tr th:only-of-type {\n",
       "        vertical-align: middle;\n",
       "    }\n",
       "\n",
       "    .dataframe tbody tr th {\n",
       "        vertical-align: top;\n",
       "    }\n",
       "\n",
       "    .dataframe thead th {\n",
       "        text-align: right;\n",
       "    }\n",
       "</style>\n",
       "<table border=\"1\" class=\"dataframe\">\n",
       "  <thead>\n",
       "    <tr style=\"text-align: right;\">\n",
       "      <th></th>\n",
       "      <th>Target</th>\n",
       "      <th>ID</th>\n",
       "      <th>Date</th>\n",
       "      <th>flag</th>\n",
       "      <th>User</th>\n",
       "      <th>Text</th>\n",
       "      <th>Positivity</th>\n",
       "    </tr>\n",
       "  </thead>\n",
       "  <tbody>\n",
       "    <tr>\n",
       "      <th>802917</th>\n",
       "      <td>4</td>\n",
       "      <td>1468308109</td>\n",
       "      <td>Tue Apr 07 00:52:58 PDT 2009</td>\n",
       "      <td>NO_QUERY</td>\n",
       "      <td>Daisylittlestar</td>\n",
       "      <td>Good Morning</td>\n",
       "      <td>0.533486</td>\n",
       "    </tr>\n",
       "    <tr>\n",
       "      <th>804358</th>\n",
       "      <td>4</td>\n",
       "      <td>1468504184</td>\n",
       "      <td>Tue Apr 07 02:04:27 PDT 2009</td>\n",
       "      <td>NO_QUERY</td>\n",
       "      <td>VeraL</td>\n",
       "      <td>good morning</td>\n",
       "      <td>0.533486</td>\n",
       "    </tr>\n",
       "    <tr>\n",
       "      <th>805841</th>\n",
       "      <td>4</td>\n",
       "      <td>1468725445</td>\n",
       "      <td>Tue Apr 07 03:23:29 PDT 2009</td>\n",
       "      <td>NO_QUERY</td>\n",
       "      <td>dbreakenridge</td>\n",
       "      <td>Good morning</td>\n",
       "      <td>0.533486</td>\n",
       "    </tr>\n",
       "    <tr>\n",
       "      <th>806891</th>\n",
       "      <td>4</td>\n",
       "      <td>1468901047</td>\n",
       "      <td>Tue Apr 07 04:19:00 PDT 2009</td>\n",
       "      <td>NO_QUERY</td>\n",
       "      <td>Sbaby82</td>\n",
       "      <td>Good Morning</td>\n",
       "      <td>0.533486</td>\n",
       "    </tr>\n",
       "    <tr>\n",
       "      <th>806936</th>\n",
       "      <td>4</td>\n",
       "      <td>1468902113</td>\n",
       "      <td>Tue Apr 07 04:19:21 PDT 2009</td>\n",
       "      <td>NO_QUERY</td>\n",
       "      <td>iamnatassja</td>\n",
       "      <td>Good morning...good morning..good moooooorning</td>\n",
       "      <td>0.525264</td>\n",
       "    </tr>\n",
       "    <tr>\n",
       "      <th>...</th>\n",
       "      <td>...</td>\n",
       "      <td>...</td>\n",
       "      <td>...</td>\n",
       "      <td>...</td>\n",
       "      <td>...</td>\n",
       "      <td>...</td>\n",
       "      <td>...</td>\n",
       "    </tr>\n",
       "    <tr>\n",
       "      <th>1043600</th>\n",
       "      <td>4</td>\n",
       "      <td>1957346035</td>\n",
       "      <td>Fri May 29 00:13:16 PDT 2009</td>\n",
       "      <td>NO_QUERY</td>\n",
       "      <td>TammyElisabeth</td>\n",
       "      <td>Good morning</td>\n",
       "      <td>0.533486</td>\n",
       "    </tr>\n",
       "    <tr>\n",
       "      <th>1044628</th>\n",
       "      <td>4</td>\n",
       "      <td>1957458930</td>\n",
       "      <td>Fri May 29 00:34:00 PDT 2009</td>\n",
       "      <td>NO_QUERY</td>\n",
       "      <td>MissRasmus</td>\n",
       "      <td>Good morning</td>\n",
       "      <td>0.533486</td>\n",
       "    </tr>\n",
       "    <tr>\n",
       "      <th>1045011</th>\n",
       "      <td>4</td>\n",
       "      <td>1957501799</td>\n",
       "      <td>Fri May 29 00:42:05 PDT 2009</td>\n",
       "      <td>NO_QUERY</td>\n",
       "      <td>hawaiirob</td>\n",
       "      <td>good paddle, good beer, good times  time for g...</td>\n",
       "      <td>0.508980</td>\n",
       "    </tr>\n",
       "    <tr>\n",
       "      <th>1046914</th>\n",
       "      <td>4</td>\n",
       "      <td>1957712699</td>\n",
       "      <td>Fri May 29 01:22:01 PDT 2009</td>\n",
       "      <td>NO_QUERY</td>\n",
       "      <td>ellagracemusic</td>\n",
       "      <td>good morning</td>\n",
       "      <td>0.533486</td>\n",
       "    </tr>\n",
       "    <tr>\n",
       "      <th>1047299</th>\n",
       "      <td>4</td>\n",
       "      <td>1957752596</td>\n",
       "      <td>Fri May 29 01:30:00 PDT 2009</td>\n",
       "      <td>NO_QUERY</td>\n",
       "      <td>deadly_cyn</td>\n",
       "      <td>Good morning</td>\n",
       "      <td>0.533486</td>\n",
       "    </tr>\n",
       "  </tbody>\n",
       "</table>\n",
       "<p>232 rows × 7 columns</p>\n",
       "</div>"
      ],
      "text/plain": [
       "         Target          ID                          Date      flag  \\\n",
       "802917        4  1468308109  Tue Apr 07 00:52:58 PDT 2009  NO_QUERY   \n",
       "804358        4  1468504184  Tue Apr 07 02:04:27 PDT 2009  NO_QUERY   \n",
       "805841        4  1468725445  Tue Apr 07 03:23:29 PDT 2009  NO_QUERY   \n",
       "806891        4  1468901047  Tue Apr 07 04:19:00 PDT 2009  NO_QUERY   \n",
       "806936        4  1468902113  Tue Apr 07 04:19:21 PDT 2009  NO_QUERY   \n",
       "...         ...         ...                           ...       ...   \n",
       "1043600       4  1957346035  Fri May 29 00:13:16 PDT 2009  NO_QUERY   \n",
       "1044628       4  1957458930  Fri May 29 00:34:00 PDT 2009  NO_QUERY   \n",
       "1045011       4  1957501799  Fri May 29 00:42:05 PDT 2009  NO_QUERY   \n",
       "1046914       4  1957712699  Fri May 29 01:22:01 PDT 2009  NO_QUERY   \n",
       "1047299       4  1957752596  Fri May 29 01:30:00 PDT 2009  NO_QUERY   \n",
       "\n",
       "                    User                                               Text  \\\n",
       "802917   Daisylittlestar                                      Good Morning    \n",
       "804358             VeraL                                      good morning    \n",
       "805841     dbreakenridge                                      Good morning    \n",
       "806891           Sbaby82                                      Good Morning    \n",
       "806936       iamnatassja    Good morning...good morning..good moooooorning    \n",
       "...                  ...                                                ...   \n",
       "1043600   TammyElisabeth                                      Good morning    \n",
       "1044628       MissRasmus                                      Good morning    \n",
       "1045011        hawaiirob  good paddle, good beer, good times  time for g...   \n",
       "1046914   ellagracemusic                                      good morning    \n",
       "1047299       deadly_cyn                                      Good morning    \n",
       "\n",
       "         Positivity  \n",
       "802917     0.533486  \n",
       "804358     0.533486  \n",
       "805841     0.533486  \n",
       "806891     0.533486  \n",
       "806936     0.525264  \n",
       "...             ...  \n",
       "1043600    0.533486  \n",
       "1044628    0.533486  \n",
       "1045011    0.508980  \n",
       "1046914    0.533486  \n",
       "1047299    0.533486  \n",
       "\n",
       "[232 rows x 7 columns]"
      ]
     },
     "execution_count": 20,
     "metadata": {},
     "output_type": "execute_result"
    }
   ],
   "source": [
    "tweets.loc[(tweets.Positivity > 0.5) & (tweets.Target == 4)] # chyba slabo dziala\n"
   ]
  }
 ],
 "metadata": {
  "kernelspec": {
   "display_name": "base",
   "language": "python",
   "name": "python3"
  },
  "language_info": {
   "codemirror_mode": {
    "name": "ipython",
    "version": 3
   },
   "file_extension": ".py",
   "mimetype": "text/x-python",
   "name": "python",
   "nbconvert_exporter": "python",
   "pygments_lexer": "ipython3",
   "version": "3.9.12"
  }
 },
 "nbformat": 4,
 "nbformat_minor": 2
}
