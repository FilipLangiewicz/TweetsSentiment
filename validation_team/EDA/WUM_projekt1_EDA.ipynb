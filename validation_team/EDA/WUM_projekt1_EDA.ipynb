{
 "cells": [
  {
   "cell_type": "markdown",
   "id": "df5479df",
   "metadata": {},
   "source": [
    "# EDA\n",
    "### Stellar Classification Dataset - SDSS17\n",
    "https://www.kaggle.com/datasets/fedesoriano/stellar-classification-dataset-sdss17\n",
    "\n",
    "#### Context\n",
    "In astronomy, stellar classification is the classification of stars based on their spectral characteristics. The classification scheme of galaxies, quasars, and stars is one of the most fundamental in astronomy. The early cataloguing of stars and their distribution in the sky has led to the understanding that they make up our own galaxy and, following the distinction that Andromeda was a separate galaxy to our own, numerous galaxies began to be surveyed as more powerful telescopes were built. This datasat aims to classificate stars, galaxies, and quasars based on their spectral characteristics.\n",
    "\n",
    "#### Content\n",
    "The data consists of 100,000 observations of space taken by the SDSS (Sloan Digital Sky Survey). Every observation is described by 17 feature columns and 1 class column which identifies it to be either a star, galaxy or quasar.\n",
    "\n",
    "obj_ID = Object Identifier, the unique value that identifies the object in the image catalog used by the CAS\\\n",
    "alpha = Right Ascension angle (at J2000 epoch)\\\n",
    "delta = Declination angle (at J2000 epoch)\\\n",
    "u = Ultraviolet filter in the photometric system\\\n",
    "g = Green filter in the photometric system\\\n",
    "r = Red filter in the photometric system\\\n",
    "i = Near Infrared filter in the photometric system\\\n",
    "z = Infrared filter in the photometric system\\\n",
    "run_ID = Run Number used to identify the specific scan\\\n",
    "rereun_ID = Rerun Number to specify how the image was processed\\\n",
    "cam_col = Camera column to identify the scanline within the run\\\n",
    "field_ID = Field number to identify each field\\\n",
    "spec_obj_ID = Unique ID used for optical spectroscopic objects (this means that 2 different observations with the same spec_obj_ID must share the output class)\\\n",
    "class = object class (galaxy, star or quasar object)\\\n",
    "redshift = redshift value based on the increase in wavelength\\\n",
    "plate = plate ID, identifies each plate in SDSS\\\n",
    "MJD = Modified Julian Date, used to indicate when a given piece of SDSS data was taken\\\n",
    "fiber_ID = fiber ID that identifies the fiber that pointed the light at the focal plane in each observation\\\n",
    "\n",
    "#### Citation\n",
    "fedesoriano. (January 2022). Stellar Classification Dataset - SDSS17. Retrieved [Date Retrieved] from https://www.kaggle.com/fedesoriano/stellar-classification-dataset-sdss17.\n",
    "\n",
    "Acknowledgements\n",
    "The data released by the SDSS is under public domain. Its taken from the current data release RD17.\n",
    "\n",
    "More information about the license: http://www.sdss.org/science/image-gallery/"
   ]
  },
  {
   "cell_type": "code",
   "execution_count": null,
   "id": "c67f7f46",
   "metadata": {},
   "outputs": [],
   "source": [
    "import pandas as pd\n",
    "import numpy as np\n",
    "import matplotlib.pyplot as plt\n",
    "import matplotlib\n",
    "import sklearn \n",
    "from sklearn.model_selection import train_test_split\n",
    "import seaborn as sns\n",
    "import warnings\n",
    "warnings.filterwarnings('ignore')\n",
    "np.random.seed = 42"
   ]
  },
  {
   "cell_type": "code",
   "execution_count": null,
   "id": "c7dcf051",
   "metadata": {},
   "outputs": [],
   "source": [
    "## W tej komórce są operacje dokonywane na ramce danych w pozostałej części tego pliku\n",
    "# df_original = pd.read_csv('star_classification.csv')\n",
    "# df = df_original.copy()\n",
    "\n",
    "# df = df.loc[:, df.columns != 'rerun_ID']\n",
    "# df = df[df['u'] > 0]\n",
    "\n",
    "# df_correlation = df.loc[:, df.columns != 'class'].corr()\n",
    "# df_correlation_GALAXY = df[df['class']=='GALAXY'].loc[:, df.columns != 'class'].corr()\n",
    "# df_correlation_QSO = df[df['class']=='QSO'].loc[:, df.columns != 'class'].corr()\n",
    "# df_correlation_STAR = df[df['class']=='STAR'].loc[:, df.columns != 'class'].corr()\n",
    "\n",
    "### Ten kod poniżej to zamiana zmiennej kategorycznej numeryczną, nie był używany\n",
    "###one-hot for class\n",
    "## df['is'] = df['class']\n",
    "## df = pd.get_dummies(df, columns = ['is'], dtype=float)\n",
    "## df.head()"
   ]
  },
  {
   "cell_type": "markdown",
   "id": "6fdf86ce",
   "metadata": {},
   "source": [
    "## Podstawowe informacje o ramce danych"
   ]
  },
  {
   "cell_type": "code",
   "execution_count": null,
   "id": "6178e06a",
   "metadata": {},
   "outputs": [],
   "source": [
    "#df_original = pd.read_csv('C:\\\\Users\\\\HP\\\\Downloads\\\\archive\\\\star_classification.csv')\n",
    "df_original = pd.read_csv(\".//test_sample_team4.csv\")\n",
    "df_original.head()"
   ]
  },
  {
   "cell_type": "code",
   "execution_count": null,
   "id": "2e4fab51",
   "metadata": {},
   "outputs": [],
   "source": [
    "df_original.info()"
   ]
  },
  {
   "cell_type": "markdown",
   "id": "5abaf6eb",
   "metadata": {},
   "source": [
    "nie ma braków danych w żadnej kolumnie"
   ]
  },
  {
   "cell_type": "code",
   "execution_count": null,
   "id": "09787a25",
   "metadata": {},
   "outputs": [],
   "source": [
    "df_original.describe()"
   ]
  },
  {
   "cell_type": "code",
   "execution_count": null,
   "id": "38ab392f",
   "metadata": {},
   "outputs": [],
   "source": [
    "df_original.hist(bins = 40, figsize=(18, 12))\n",
    "plt.show()"
   ]
  },
  {
   "cell_type": "code",
   "execution_count": null,
   "id": "1270e1d8",
   "metadata": {},
   "outputs": [],
   "source": [
    "df_original['class'].value_counts().plot.bar().set(title='Rozkład zmiennej \"class\"')\n",
    "plt.show()\n",
    "df_original['class'].value_counts()"
   ]
  },
  {
   "cell_type": "markdown",
   "id": "d65dc08d",
   "metadata": {},
   "source": [
    "#### zmienna class posiada trzy unikalne wartości: star, galaxy i quasar, z czego obiektów typu galaxy jest trzy razy więcej niż tyou star i trzy razy więcej niż typu quasar"
   ]
  },
  {
   "cell_type": "markdown",
   "id": "e5420327",
   "metadata": {},
   "source": [
    "## Wstępna korekta ramki danych"
   ]
  },
  {
   "cell_type": "code",
   "execution_count": null,
   "id": "5f0863f9",
   "metadata": {},
   "outputs": [],
   "source": [
    "df = df_original.copy()"
   ]
  },
  {
   "cell_type": "code",
   "execution_count": null,
   "id": "dc95345b",
   "metadata": {},
   "outputs": [],
   "source": [
    "df['rerun_ID'].value_counts()"
   ]
  },
  {
   "cell_type": "markdown",
   "id": "910d4645",
   "metadata": {},
   "source": [
    "Wszystkie obserwacje w kolumnie 'rerun_ID' są takie same, więc tę cechę można pominąć, bo nie niesie ze sobą żadnych informacji."
   ]
  },
  {
   "cell_type": "code",
   "execution_count": null,
   "id": "b010b3e8",
   "metadata": {},
   "outputs": [],
   "source": [
    "df = df.loc[:, df.columns != 'rerun_ID']\n",
    "df.head()"
   ]
  },
  {
   "cell_type": "code",
   "execution_count": null,
   "id": "7c7035fd",
   "metadata": {},
   "outputs": [],
   "source": [
    "df.duplicated().value_counts()"
   ]
  },
  {
   "cell_type": "markdown",
   "id": "3db70d3b",
   "metadata": {},
   "source": [
    "W ramce danych nie występują zduplikowane obserwacje."
   ]
  },
  {
   "cell_type": "markdown",
   "id": "f4cbdfa7",
   "metadata": {},
   "source": [
    "przyjrzyjmy się zmiennym u, g, z. z wykresów oraz z opisu powyżej można wywnioskować, że istnieje wiersz z bardzo odstającymi wartościami"
   ]
  },
  {
   "cell_type": "code",
   "execution_count": null,
   "id": "553a6436",
   "metadata": {},
   "outputs": [],
   "source": [
    "## boxploty dla zmiennych u, g, z, rerun_ID\n",
    "fig, axs = plt.subplots(1, 3, figsize=(15, 5), sharey=True)\n",
    "\n",
    "axs[0].boxplot(df[\"u\"])\n",
    "axs[0].set_title('u')\n",
    "\n",
    "axs[1].boxplot(df['g'])\n",
    "axs[1].set_title('g')\n",
    "\n",
    "axs[2].boxplot(df['z'])\n",
    "axs[2].set_title('z')"
   ]
  },
  {
   "cell_type": "code",
   "execution_count": null,
   "id": "ec10653e",
   "metadata": {},
   "outputs": [],
   "source": [
    "### jeden outlier, psuje wszystko -> do usunięcia!!!\n",
    "df = df[df['u'] > 0]"
   ]
  },
  {
   "cell_type": "code",
   "execution_count": null,
   "id": "3bca7c5c",
   "metadata": {},
   "outputs": [],
   "source": [
    "fig, axs = plt.subplots(1, 3, figsize=(15, 5), sharey=True)\n",
    "\n",
    "axs[0].boxplot(df[\"u\"])\n",
    "axs[0].set_title('u')\n",
    "\n",
    "axs[1].boxplot(df['g'])\n",
    "axs[1].set_title('g')\n",
    "\n",
    "axs[2].boxplot(df['z'])\n",
    "axs[2].set_title('z')"
   ]
  },
  {
   "cell_type": "code",
   "execution_count": null,
   "id": "741096a6",
   "metadata": {},
   "outputs": [],
   "source": [
    "fig, axs = plt.subplots(1, 3, figsize=(15, 5), sharey=True)\n",
    "\n",
    "axs[0].hist(df[\"u\"], bins = 40)\n",
    "axs[0].set_title('u')\n",
    "\n",
    "axs[1].hist(df['g'], bins = 40)\n",
    "axs[1].set_title('g')\n",
    "\n",
    "axs[2].hist(df['z'], bins = 40)\n",
    "axs[2].set_title('z')\n",
    "plt.show()"
   ]
  },
  {
   "cell_type": "markdown",
   "id": "18ffe56b",
   "metadata": {},
   "source": [
    "po usunięciu outliera dopiero widać, że powyższe zmienne mają rozkład normalny"
   ]
  },
  {
   "cell_type": "markdown",
   "id": "f9d128e1",
   "metadata": {},
   "source": [
    "## Analiza danych"
   ]
  },
  {
   "cell_type": "code",
   "execution_count": null,
   "id": "be4b4e51",
   "metadata": {
    "scrolled": false
   },
   "outputs": [],
   "source": [
    "df_correlation = df.loc[:, df.columns != 'class'].corr()\n",
    "df_correlation_GALAXY = df[df['class']=='GALAXY'].loc[:, df.columns != 'class'].corr()\n",
    "df_correlation_QSO = df[df['class']=='QSO'].loc[:, df.columns != 'class'].corr()\n",
    "df_correlation_STAR = df[df['class']=='STAR'].loc[:, df.columns != 'class'].corr()\n",
    "fig = plt.figure(figsize=(16,16), dpi = 256)\n",
    "sns.heatmap(df_correlation, annot = True, fmt = '.2f')\n",
    "fig = plt.figure(figsize=(16,16), dpi = 256)\n",
    "sns.heatmap(df_correlation_GALAXY, annot = True, fmt = '.2f')\n",
    "plt.show()\n",
    "fig = plt.figure(figsize=(16,16), dpi = 256)\n",
    "sns.heatmap(df_correlation_QSO, annot = True, fmt = '.2f')\n",
    "plt.show()\n",
    "fig = plt.figure(figsize=(16,16), dpi = 256)\n",
    "sns.heatmap(df_correlation_STAR, annot = True, fmt = '.2f')\n",
    "plt.show()"
   ]
  },
  {
   "cell_type": "code",
   "execution_count": 21,
   "id": "372f3f32",
   "metadata": {},
   "outputs": [],
   "source": [
    "sns.pairplot(df.iloc[0:1000,:], hue='class')\n",
    "# sns.pairplot(df, hue='class')\n",
    "plt.tight_layout() # poszczególnym wykresom przyjrzemy się w kolejnych częściach"
   ]
  },
  {
   "cell_type": "code",
   "execution_count": null,
   "id": "a011c84f",
   "metadata": {},
   "outputs": [],
   "source": [
    "# from sklearn.ensemble import RandomForestRegressor\n",
    "# from sklearn.inspection import permutation_importance\n",
    "\n",
    "# tmp_df = df.drop('class', axis=1).iloc[0:100,:]\n",
    "# X_train, y_train = train_test_split(tmp_df, test_size=0.5, random_state=42)\n",
    "# rf = RandomForestRegressor(n_estimators=100)\n",
    "# rf.fit(X_train, y_train)\n",
    "# sorted_idx = rf.feature_importances_.argsort()\n",
    "# plt.barh(tmp_df.columns[sorted_idx], rf.feature_importances_[sorted_idx])"
   ]
  },
  {
   "cell_type": "code",
   "execution_count": null,
   "id": "4f4577be",
   "metadata": {},
   "outputs": [],
   "source": [
    "# perm_importance = permutation_importance(rf, X_train, y_train)\n",
    "# sorted_idx = perm_importance.importances_mean.argsort()\n",
    "# plt.barh(tmp_df.columns[sorted_idx], perm_importance.importances_mean[sorted_idx])"
   ]
  },
  {
   "cell_type": "markdown",
   "id": "90e1f432",
   "metadata": {},
   "source": [
    "# EDA cz. 1"
   ]
  },
  {
   "cell_type": "code",
   "execution_count": null,
   "id": "59902a90",
   "metadata": {},
   "outputs": [],
   "source": [
    "def histograms(colname):\n",
    "    class_star = df[df['class'] == 'STAR']\n",
    "    class_galaxy = df[df['class'] == 'GALAXY']\n",
    "    class_quasar = df[df['class'] == 'QSO']\n",
    "\n",
    "    fig, axs = plt.subplots(1, 4, figsize=(15, 5), sharey=True)\n",
    "\n",
    "    axs[0].hist(class_star[colname], bins=30, color='blue', alpha=0.7)\n",
    "    axs[0].set_title('Star')\n",
    "\n",
    "    axs[1].hist(class_galaxy[colname], bins=30, color='green', alpha=0.7)\n",
    "    axs[1].set_title('Galaxy')\n",
    "\n",
    "    axs[2].hist(class_quasar[colname], bins=30, color='red', alpha=0.7)\n",
    "    axs[2].set_title('Quasar')\n",
    "\n",
    "    axs[3].hist(df[colname], bins=30, color='orange', alpha=0.7)\n",
    "    axs[3].set_title('df')\n",
    "\n",
    "    plt.show()"
   ]
  },
  {
   "cell_type": "markdown",
   "id": "de113814",
   "metadata": {},
   "source": [
    "## obj_ID, run_ID"
   ]
  },
  {
   "cell_type": "code",
   "execution_count": null,
   "id": "12f38643",
   "metadata": {
    "scrolled": false
   },
   "outputs": [],
   "source": [
    "plt.plot(df['obj_ID'], df['run_ID'])"
   ]
  },
  {
   "cell_type": "markdown",
   "id": "0a6ef22d",
   "metadata": {},
   "source": [
    "jak widać powyżej oraz z macierzy korelacji, istnieje bardzo silna zależność między zmiennymi obj_Id oraz run_Id\n",
    "-> jedna z kolumn musi zostać usunięta"
   ]
  },
  {
   "cell_type": "code",
   "execution_count": null,
   "id": "ca6fca54",
   "metadata": {},
   "outputs": [],
   "source": [
    "histograms('obj_ID')"
   ]
  },
  {
   "cell_type": "code",
   "execution_count": null,
   "id": "ba2749ab",
   "metadata": {},
   "outputs": [],
   "source": [
    "histograms('run_ID')"
   ]
  },
  {
   "cell_type": "markdown",
   "id": "cd899dd1",
   "metadata": {},
   "source": [
    "równie silna korelacja występuje dla kolumn spec_obj_ID oraz plate"
   ]
  },
  {
   "cell_type": "code",
   "execution_count": null,
   "id": "bc335e0b",
   "metadata": {},
   "outputs": [],
   "source": [
    "plt.plot(df['spec_obj_ID'], df['plate'])  ### jedna z tych zmiennych też do usunięcia"
   ]
  },
  {
   "cell_type": "markdown",
   "id": "ee78196e",
   "metadata": {},
   "source": [
    "## alpha i delta\n",
    "alpha = Right Ascension angle (at J2000 epoch)\n",
    "delta = Declination angle (at J2000 epoch)\n",
    "\n",
    "spójrzmy na zmienne alpha i delta. Widzimy, że zmienna alpha przyjmuje bardzo mało wartości w przedziałach 60 - 100 oraz 250 - 300. Większość wartości w tych przedziałach jest typu star."
   ]
  },
  {
   "cell_type": "code",
   "execution_count": null,
   "id": "1e67f679",
   "metadata": {},
   "outputs": [],
   "source": [
    "###alpha\n",
    "histograms('alpha')"
   ]
  },
  {
   "cell_type": "code",
   "execution_count": null,
   "id": "25797f3b",
   "metadata": {},
   "outputs": [],
   "source": [
    "k = df[((df['alpha'] > 60) & (df['alpha'] < 100)) | ((df['alpha'] > 260) & (df['alpha'] < 300))]\n",
    "star = k[k['class'] == 'STAR']\n",
    "galaxy = k[k['class'] == 'GALAXY']\n",
    "quasar = k[k['class'] == 'QSO']\n",
    "\n",
    "rows = [len(star), len(galaxy), len(quasar)]\n",
    "names = ['star', 'galaxy', 'quasar']\n",
    "\n",
    "plt.bar(names, rows)\n",
    "plt.show()"
   ]
  },
  {
   "cell_type": "code",
   "execution_count": null,
   "id": "0aec3863",
   "metadata": {},
   "outputs": [],
   "source": [
    "###delta\n",
    "histograms('delta')"
   ]
  },
  {
   "cell_type": "markdown",
   "id": "d9e0286d",
   "metadata": {},
   "source": [
    "zmienna delta przypomina rozkład normalny dla każdego z powyższsych wykresów. Wyjątkiem jest widoczny 'pik' w okolicy wartości 0."
   ]
  },
  {
   "cell_type": "code",
   "execution_count": null,
   "id": "5e1562b9",
   "metadata": {},
   "outputs": [],
   "source": [
    "sns.scatterplot(x = df.alpha, y = df.delta, data = df)"
   ]
  },
  {
   "cell_type": "code",
   "execution_count": null,
   "id": "f1514b1c",
   "metadata": {},
   "outputs": [],
   "source": [
    "sns.scatterplot(x = df.alpha, y = df.delta, data = df, hue = 'class')\n",
    "#zależnośc między alfa i delta"
   ]
  },
  {
   "cell_type": "markdown",
   "id": "fdbd3004",
   "metadata": {},
   "source": [
    "zmienne alpha i delta mają bardzo mały współczynnik korelacji z innymi kolumnami. Największy współczynnik mają w korelacji samymi z sobą, gdy nie uwzględniamy podziału na klasy (współczynnik wynosi 0.14). Nieco większy wynik (0.16) otrzymujemy, gdy rozpatrujemy zmienny typu 'STAR'."
   ]
  },
  {
   "cell_type": "markdown",
   "id": "44752fac",
   "metadata": {},
   "source": [
    "## filters in the photometric system\n",
    "### u - ultraviolet\n",
    "### g - green\n",
    "### i - near infrared\n",
    "### z - infrared\n",
    "### r - red"
   ]
  },
  {
   "cell_type": "code",
   "execution_count": null,
   "id": "0a9311cf",
   "metadata": {
    "scrolled": false
   },
   "outputs": [],
   "source": [
    "g = sns.pairplot(data=df[['u', 'g', 'i', 'z', 'r', 'class']],\n",
    "                 hue='class')\n",
    "plt.show()"
   ]
  },
  {
   "cell_type": "markdown",
   "id": "b2992f9f",
   "metadata": {},
   "source": [
    "Powyższe zmienne są bardzo silnie skorelowane, co stanowi podstawę do usunięcia części z nich\n",
    "Przyjrzyjmy się poniższym histogramom - dla każdej zmiennej rozkład w poszczególnej klasie jest bardzo podobny. Histogramy różnią się jednak w kategoriach. Z wykresów poniżej wynika, że każda nowa zmienna nie wprowadza żadnych nowych informacji."
   ]
  },
  {
   "cell_type": "code",
   "execution_count": null,
   "id": "8f9eee3a",
   "metadata": {},
   "outputs": [],
   "source": [
    "histograms('u')"
   ]
  },
  {
   "cell_type": "code",
   "execution_count": null,
   "id": "369f7672",
   "metadata": {},
   "outputs": [],
   "source": [
    "histograms('g')"
   ]
  },
  {
   "cell_type": "code",
   "execution_count": null,
   "id": "9af6e93a",
   "metadata": {},
   "outputs": [],
   "source": [
    "histograms('i')"
   ]
  },
  {
   "cell_type": "code",
   "execution_count": null,
   "id": "45e2420a",
   "metadata": {},
   "outputs": [],
   "source": [
    "histograms('z')"
   ]
  },
  {
   "cell_type": "code",
   "execution_count": null,
   "id": "dbf7e5ef",
   "metadata": {},
   "outputs": [],
   "source": [
    "histograms('r')"
   ]
  },
  {
   "cell_type": "code",
   "execution_count": null,
   "id": "912bb4bf",
   "metadata": {},
   "outputs": [],
   "source": [
    "point_limit=100000 # ramka danych ma 100000 obserwacji, kolekcje wykresów punktowych się długo rysują przy tej liczbie\n",
    "\n",
    "def standard_distribution_info(variable_name):\n",
    "    fig, ax = plt.subplots(4, 1, figsize=(10, 10))\n",
    "    sns.histplot(data=df, x=variable_name, color='#17becf', ax=ax[0]).set(title='All classes')\n",
    "    sns.histplot(data=df[df['class']=='GALAXY'], x=variable_name, color='#1f77b4', ax=ax[1]).set(title='GALAXY')\n",
    "    sns.histplot(data=df[df['class']=='QSO'], x=variable_name, color='#ff7f0e', ax=ax[2]).set(title='QSO')\n",
    "    sns.histplot(data=df[df['class']=='STAR'], x=variable_name, color='#2ca02c', ax=ax[3]).set(title='STAR')\n",
    "    fig.tight_layout(pad=5.0)\n",
    "    fig.show()\n",
    "\n",
    "def standard_boxplot_info(variable_name):\n",
    "    fig, ax = plt.subplots(4, 1, figsize=(10, 10))\n",
    "    sns.boxplot(data=df, x=variable_name, color='#17becf', ax=ax[0]).set(title='All classes')\n",
    "    sns.boxplot(data=df[df['class']=='GALAXY'], x=variable_name, color='#1f77b4', ax=ax[1]).set(title='GALAXY')\n",
    "    sns.boxplot(data=df[df['class']=='QSO'], x=variable_name, color='#ff7f0e', ax=ax[2]).set(title='QSO')\n",
    "    sns.boxplot(data=df[df['class']=='STAR'], x=variable_name, color='#2ca02c', ax=ax[3]).set(title='STAR')\n",
    "    fig.tight_layout(pad=5.0)\n",
    "    fig.show()\n",
    "    boxplot_info(variable_name)\n",
    "    \n",
    "def boxplot_info(variable_name):\n",
    "    # outliery są znajdywane za pomocą metody 1.5IQR\n",
    "    print('All classes:')\n",
    "    selected_df = df[variable_name]\n",
    "    print('mediana = %s' %np.median(selected_df))\n",
    "    print('średnia = %s' %np.mean(selected_df))\n",
    "    Q1 = np.percentile(selected_df, 25)\n",
    "    Q3 = np.percentile(selected_df, 75)\n",
    "    IQR = Q3-Q1\n",
    "    print('Q1 = %s' %Q1,'Q3 = %s' %Q3)\n",
    "    print('outlier_lower_bound = %s' %(Q1-(1.5*IQR)))\n",
    "    print('outlier_upper_bound = %s' %(Q3+(1.5*IQR)))\n",
    "    print('outlier_count = %s' %selected_df[(selected_df < Q1-(1.5*IQR)) | (selected_df > Q3+(1.5*IQR))].count())\n",
    "    print('GALAXY:')\n",
    "    selected_df = df[df['class']=='GALAXY'][variable_name]\n",
    "    print('mediana = %s' %np.median(selected_df))\n",
    "    print('średnia = %s' %np.mean(selected_df))\n",
    "    Q1 = np.percentile(selected_df, 25)\n",
    "    Q3 = np.percentile(selected_df, 75)\n",
    "    IQR = Q3-Q1\n",
    "    print('Q1 = %s' %Q1,'Q3 = %s' %Q3)\n",
    "    print('outlier_lower_bound = %s' %(Q1-(1.5*IQR)))\n",
    "    print('outlier_upper_bound = %s' %(Q3+(1.5*IQR)))\n",
    "    print('outlier_count = %s' %selected_df[(selected_df < Q1-(1.5*IQR)) | (selected_df > Q3+(1.5*IQR))].count())\n",
    "    print('QSO:')\n",
    "    selected_df = df[df['class']=='QSO'][variable_name]\n",
    "    print('mediana = %s' %np.median(selected_df))\n",
    "    print('średnia = %s' %np.mean(selected_df))\n",
    "    Q1 = np.percentile(selected_df, 25)\n",
    "    Q3 = np.percentile(selected_df, 75)\n",
    "    IQR = Q3-Q1\n",
    "    print('Q1 = %s' %Q1,'Q3 = %s' %Q3)\n",
    "    print('outlier_lower_bound = %s' %(Q1-(1.5*IQR)))\n",
    "    print('outlier_upper_bound = %s' %(Q3+(1.5*IQR)))\n",
    "    print('outlier_count = %s' %selected_df[(selected_df < Q1-(1.5*IQR)) | (selected_df > Q3+(1.5*IQR))].count())\n",
    "    print('STAR:')\n",
    "    selected_df = df[df['class']=='STAR'][variable_name]\n",
    "    print('mediana = %s' %np.median(selected_df))\n",
    "    print('średnia = %s' %np.mean(selected_df))\n",
    "    Q1 = np.percentile(selected_df, 25)\n",
    "    Q3 = np.percentile(selected_df, 75)\n",
    "    IQR = Q3-Q1\n",
    "    print('Q1 = %s' %Q1,'Q3 = %s' %Q3)\n",
    "    print('outlier_lower_bound = %s' %(Q1-(1.5*IQR)))\n",
    "    print('outlier_upper_bound = %s' %(Q3+(1.5*IQR)))\n",
    "    print('outlier_count = %s' %selected_df[(selected_df < Q1-(1.5*IQR)) | (selected_df > Q3+(1.5*IQR))].count())\n",
    "    \n",
    "def standard_correlation_visualisation(variable_name, limit):\n",
    "    sns.pairplot(df.head(limit), y_vars=variable_name, x_vars=df.columns.values[:5], hue='class')\n",
    "    sns.pairplot(df.head(limit), y_vars=variable_name, x_vars=df.columns.values[5:10], hue='class')\n",
    "    sns.pairplot(df.head(limit), y_vars=variable_name, x_vars=df.columns.values[10:15], hue='class')\n",
    "    sns.pairplot(df.head(limit), y_vars=variable_name, x_vars=df.columns.values[15:18], hue='class')\n",
    "    plt.show()\n",
    "    fig, ax = plt.subplots(2, 2, figsize=(10, 10))\n",
    "    df_correlation[variable_name].plot.bar(color='#17becf', ylim=(-1, 1), ax=ax[0, 0]).set(title='All classes correlations') \n",
    "    df_correlation_GALAXY[variable_name].plot.bar(color='#1f77b4', ylim=(-1, 1), ax=ax[0, 1]).set(title='GALAXY correlations')\n",
    "    df_correlation_QSO[variable_name].plot.bar(color='#ff7f0e', ylim=(-1, 1), ax=ax[1, 0]).set(title='QSO correlations')\n",
    "    df_correlation_STAR[variable_name].plot.bar(color='#2ca02c', ylim=(-1, 1), ax=ax[1, 1]).set(title='STAR correlations')\n",
    "    ax[0, 0].axhline(y = 0, color = 'black', linewidth = 0.5, linestyle = '-')\n",
    "    ax[0, 1].axhline(y = 0, color = 'black', linewidth = 0.5, linestyle = '-') \n",
    "    ax[1, 0].axhline(y = 0, color = 'black', linewidth = 0.5, linestyle = '-')\n",
    "    ax[1, 1].axhline(y = 0, color = 'black', linewidth = 0.5, linestyle = '-') \n",
    "    fig.tight_layout(pad=5.0)\n",
    "    fig.show()\n",
    "    print('korelacja:')\n",
    "    print('all_classes: \\n%s' %df_correlation.sort_values(by=[variable_name], ascending=False)[variable_name])\n",
    "    print('GALAXY: \\n%s' %df_correlation_GALAXY.sort_values(by=[variable_name], ascending=False)[variable_name])\n",
    "    print('QSO: \\n%s' %df_correlation_QSO.sort_values(by=[variable_name], ascending=False)[variable_name])\n",
    "    print('STAR: \\n%s' %df_correlation_STAR.sort_values(by=[variable_name], ascending=False)[variable_name])"
   ]
  },
  {
   "cell_type": "markdown",
   "id": "90648cb7",
   "metadata": {},
   "source": [
    "# cam_col\n",
    " Camera column to identify the scanline within the run\n",
    " \n",
    " Jest to zmienna o wartościach dyskretnych.\n",
    " Jej rozkład jest podobny dla każdej z klas; wartości brzegowe są rzadsze.\n",
    " Nie widać wyraźnego związku 'cam_col' z żadną z pozostałych zmiennych."
   ]
  },
  {
   "cell_type": "code",
   "execution_count": null,
   "id": "8f79b5fe",
   "metadata": {},
   "outputs": [],
   "source": [
    "standard_distribution_info('cam_col')\n",
    "df['cam_col'].value_counts()"
   ]
  },
  {
   "cell_type": "code",
   "execution_count": null,
   "id": "5f67c432",
   "metadata": {
    "scrolled": false
   },
   "outputs": [],
   "source": [
    "standard_boxplot_info('cam_col')"
   ]
  },
  {
   "cell_type": "code",
   "execution_count": null,
   "id": "b79db41d",
   "metadata": {
    "scrolled": false
   },
   "outputs": [],
   "source": [
    "standard_correlation_visualisation('cam_col', point_limit)"
   ]
  },
  {
   "cell_type": "markdown",
   "id": "7cffaf5a",
   "metadata": {},
   "source": [
    "# field_ID\n",
    "Field number to identify each field\n",
    "\n",
    "Zmienne najczęściej przyjmują wartości w okolicach 100, a od 200 wraz ze wzrostem wartości maleje szansa na jej osiągnięcie.\n",
    "To powoduje istnienie dużej liczby, bo około 5%, wartości odstających. Ta tendencja utrzymuje się na przestrzeni wszystkich klas.\n",
    "Ta kolumna jest skorelowana na poziomie około -0.16 z 'alpha' i 'delta'"
   ]
  },
  {
   "cell_type": "code",
   "execution_count": null,
   "id": "b159fb27",
   "metadata": {
    "scrolled": false
   },
   "outputs": [],
   "source": [
    "standard_distribution_info('field_ID')\n",
    "df['field_ID'].value_counts()"
   ]
  },
  {
   "cell_type": "code",
   "execution_count": null,
   "id": "09e62a1f",
   "metadata": {
    "scrolled": false
   },
   "outputs": [],
   "source": [
    "standard_boxplot_info('field_ID')"
   ]
  },
  {
   "cell_type": "code",
   "execution_count": null,
   "id": "e05e4fa1",
   "metadata": {
    "scrolled": false
   },
   "outputs": [],
   "source": [
    "standard_correlation_visualisation('field_ID', point_limit)"
   ]
  },
  {
   "cell_type": "markdown",
   "id": "1e6c24f4",
   "metadata": {},
   "source": [
    "# spec_obj_ID\n",
    "Unique ID used for optical spectroscopic objects (this means that 2 different observations with the same spec_obj_ID must share the output class)\n",
    "\n",
    "Wartości są rozłożone na przedziale 0 - ~14e19, przy czym GALAXY ma bardziej wypośrodkowany rozkład, QSO jest prawoskośne, a STAR jest lewoskośne.  \n",
    "Jedynie klasa STAR ma wartości odstające, ale jest ich tylko 18.  \n",
    "'plate' i 'MJD' są skorelowane z tą zmienną blisko 1, a więc te kolumny nadają się do odrzucenia.  \n",
    "'r', 'z', 'i' są też silnie skorelowane (0.4-0.6).  \n",
    "'g', 'redshift', 'u' dodatkowo korelacje > 0.55 dla klasy GALAXY."
   ]
  },
  {
   "cell_type": "code",
   "execution_count": null,
   "id": "6a6e2832",
   "metadata": {},
   "outputs": [],
   "source": [
    "standard_distribution_info('spec_obj_ID')\n",
    "df['spec_obj_ID'].value_counts()"
   ]
  },
  {
   "cell_type": "code",
   "execution_count": null,
   "id": "93e32a06",
   "metadata": {},
   "outputs": [],
   "source": [
    "standard_boxplot_info('spec_obj_ID')"
   ]
  },
  {
   "cell_type": "code",
   "execution_count": null,
   "id": "98839950",
   "metadata": {
    "scrolled": false
   },
   "outputs": [],
   "source": [
    "standard_correlation_visualisation('spec_obj_ID', point_limit)"
   ]
  },
  {
   "cell_type": "markdown",
   "id": "dcfb3607",
   "metadata": {},
   "source": [
    "# class\n",
    "object class (galaxy, star or quasar object)\n",
    "\n",
    "Najliczniejsza jest klasa GALAXY, bo jej licznośc jest około trzykrotnie większa od pozostałych klas.  \n",
    "Ze względu na niewielki startowy rozmiar ramki danych (tylko 18 kolumn) dodanie kilku nowych kolumn i zwiększenie wymiarowości nie powinno znacząco pogorszyć modelu, a zatem zamiana tej zmiennej kategorycznej na numeryczną metodą one-hot wydaje się trafnym pomysłem."
   ]
  },
  {
   "cell_type": "code",
   "execution_count": null,
   "id": "e5d2915e",
   "metadata": {},
   "outputs": [],
   "source": [
    "sns.histplot(data=df, x='class', color='#17becf').set(title='All classes')\n",
    "df['class'].value_counts()"
   ]
  },
  {
   "cell_type": "markdown",
   "id": "dba014ae",
   "metadata": {},
   "source": [
    "# redshift\n",
    "redshift value based on the increase in wavelength\n",
    "\n",
    "QSO jako rodzaj galaktyki ma podobny rozkład co GALAXY, tzn. poczerwienienie jest dodatnie. Warto zauważyć, że GALAXY przyjmuje wartości w większości w przedziale 0-1, a QSO 0-3. STAR natomiast ma odmienny rozkład; Gaussa blisko skupiony wokół zera. To powoduje, że łączny rozkład zmiennej 'redshift' najczęściej (i to znacząco) przyjmuje wartości bliskie zeru.   \n",
    "Ilość wartości odstających jest duża, z czego ze względu na różny zakres zmiennej w podziale na klasy wartości odstające dla poszczególnych klas różnią się od wartości odstających dla rozkładu łącznego (głównie przez wpływ rozkładu QSO).  \n",
    "'u', 'g', 'r', 'i', 'z' są skorelowane w klasach GALAXY i QSO (w GALAXY znacząco, bo >0.6, w QSO znacznie mniej, bo ~0.17-~0.32), a GALAXY jest dodatkowo silnie skorelowane z 'MJD', 'spec_obj_ID', 'plate' (>0.6).  \n",
    "Ze względu na bardzo charakterystyczne rozkłady zmiennej w podziale na klasy można wysnuć hipotezę o niebagatelnym znaczeniu cechy 'redshift' w zadaniu klasyfikacji obiektu w oparciu o analizę przyjmowanych wartości przez tę zmienną."
   ]
  },
  {
   "cell_type": "code",
   "execution_count": null,
   "id": "62c289ad",
   "metadata": {},
   "outputs": [],
   "source": [
    "standard_distribution_info('redshift')\n",
    "df['redshift'].value_counts()"
   ]
  },
  {
   "cell_type": "code",
   "execution_count": null,
   "id": "7f603095",
   "metadata": {},
   "outputs": [],
   "source": [
    "standard_boxplot_info('redshift')"
   ]
  },
  {
   "cell_type": "code",
   "execution_count": null,
   "id": "086c7b2b",
   "metadata": {
    "scrolled": false
   },
   "outputs": [],
   "source": [
    "standard_correlation_visualisation('redshift', point_limit)"
   ]
  },
  {
   "cell_type": "markdown",
   "id": "24784153",
   "metadata": {},
   "source": [
    "# plate \n",
    "plate ID, identifies each plate in SDSS\n",
    "\n",
    "Ta zmienna ma podobny rozkład co 'space_obj_ID'. Co więcej, pozostałe parametry są również podobne do wspomnianej zmiennej. Powodem takiego zjawiska jest zaobserwowany wcześniej fakt, mianowicie; 'space_obj_ID' jak i 'plate' są skorelowane ze sobą ze współczynnikiem korelacji równym 1. Zdublowanie informacji poprzez podanie identycznych cech do modelu może skutkować brakiem równowagi w porónaniu do pozostałych cech w zadaniu klasyfikacji, a zatem jedna z tych kolumn powinna zostać usunięta z ramki danych."
   ]
  },
  {
   "cell_type": "code",
   "execution_count": null,
   "id": "3415fb61",
   "metadata": {},
   "outputs": [],
   "source": [
    "standard_distribution_info('plate')\n",
    "df['plate'].value_counts()"
   ]
  },
  {
   "cell_type": "code",
   "execution_count": null,
   "id": "8bf93895",
   "metadata": {},
   "outputs": [],
   "source": [
    "standard_boxplot_info('plate')"
   ]
  },
  {
   "cell_type": "code",
   "execution_count": null,
   "id": "54cec72b",
   "metadata": {
    "scrolled": false
   },
   "outputs": [],
   "source": [
    "standard_correlation_visualisation('plate', point_limit)"
   ]
  },
  {
   "cell_type": "markdown",
   "id": "72067693",
   "metadata": {},
   "source": [
    "# MJD\n",
    "Modified Julian Date, used to indicate when a given piece of SDSS data was taken\n",
    "\n",
    "Podobnie jak we wcześniej opisanej kolumnie (patrz: 'plate') skorelowanie ze zmienną 'space_obj_ID' i 'plate' jest bardzo wysokie (>0.96). Wynika z tego, że pozostałe parametry tej zmiennej są prawie identyczne (co można sprawdzić w sposób empiryczny). Wniosek z tego jest następujący: 2 z 3 silnie skorelowanych kolumn ('space_obj_ID', 'plate', 'MJD') na pewno powinny zostać usunięte z ramki danych, bo ich obecność nie niesie ze sobą istnienia nowych informacji."
   ]
  },
  {
   "cell_type": "code",
   "execution_count": null,
   "id": "69e8f651",
   "metadata": {},
   "outputs": [],
   "source": [
    "standard_distribution_info('MJD')\n",
    "df['MJD'].value_counts()"
   ]
  },
  {
   "cell_type": "code",
   "execution_count": null,
   "id": "3c1bface",
   "metadata": {},
   "outputs": [],
   "source": [
    "standard_boxplot_info('MJD')"
   ]
  },
  {
   "cell_type": "code",
   "execution_count": null,
   "id": "12874833",
   "metadata": {
    "scrolled": false
   },
   "outputs": [],
   "source": [
    "standard_correlation_visualisation('MJD', point_limit)"
   ]
  },
  {
   "cell_type": "markdown",
   "id": "fedd1029",
   "metadata": {},
   "source": [
    "# fiber_ID\n",
    "fiber ID that identifies the fiber that pointed the light at the focal plane in each observati\n",
    "\n",
    "Rozkład zmiennej 'fiber_ID' jest podobny do jednostajnego z tym wyjątkiem, że dla klasy GALAXY i STAR rozkład wartości większych niż 600 jest dalej jednostajny, jednak ilość ich wystąpień jest mniejsza.  \n",
    "W ramce danych nie ma obecnych wartości odstających jeśli chodzi o tę zmienną.  \n",
    "Wartości 'fiber_ID' są w przybliżeniu <600 dla 'MJD' <5500, 'plate' <4000 i 'space_obj_ID' <0,5. Tę samą zależność można zaobserwować w zmiennych 'alpha' dla wartości 100+-10 i 275+-10 oraz 'delta' <-5 i >75 (będących głównie obserwacjami klasy STAR). Ta zależność przenosi się też poniekąd na pozostałe odpowiednio silnie skorelowane zmienne.  \n",
    "Niewielka korelacja może być zauważona dla 'u', 'g', 'r', 'i', 'z', 'space_obj_ID', 'plate', 'MJD', 'redshift' dla klasy GALAXY (0.2-0.26) i 'space_obj_ID', 'plate', 'MJD' dla klasy STAR (0.28)."
   ]
  },
  {
   "cell_type": "code",
   "execution_count": null,
   "id": "6f27bcc1",
   "metadata": {},
   "outputs": [],
   "source": [
    "standard_distribution_info('fiber_ID')\n",
    "df['fiber_ID'].value_counts()"
   ]
  },
  {
   "cell_type": "code",
   "execution_count": null,
   "id": "10130355",
   "metadata": {
    "scrolled": false
   },
   "outputs": [],
   "source": [
    "standard_boxplot_info('fiber_ID')"
   ]
  },
  {
   "cell_type": "code",
   "execution_count": null,
   "id": "16b145c9",
   "metadata": {
    "scrolled": false
   },
   "outputs": [],
   "source": [
    "standard_correlation_visualisation('fiber_ID', point_limit)"
   ]
  },
  {
   "cell_type": "markdown",
   "id": "c08dec31",
   "metadata": {},
   "source": [
    "### Dodatkowo\n",
    "Zmienne mają różny zakres i różne rozkłady, dlatego będzie trzeba je znormalizować/zestandardyzować."
   ]
  }
 ],
 "metadata": {
  "kernelspec": {
   "display_name": "Python 3 (ipykernel)",
   "language": "python",
   "name": "python3"
  },
  "language_info": {
   "codemirror_mode": {
    "name": "ipython",
    "version": 3
   },
   "file_extension": ".py",
   "mimetype": "text/x-python",
   "name": "python",
   "nbconvert_exporter": "python",
   "pygments_lexer": "ipython3",
   "version": "3.9.12"
  }
 },
 "nbformat": 4,
 "nbformat_minor": 5
}
