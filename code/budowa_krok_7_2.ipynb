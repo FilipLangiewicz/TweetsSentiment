{
 "cells": [
  {
   "cell_type": "markdown",
   "metadata": {},
   "source": [
    "# **Predicting tweet sentiment**"
   ]
  },
  {
   "cell_type": "markdown",
   "metadata": {},
   "source": [
    "Dataset from https://www.kaggle.com/datasets/bhavikjikadara/tweets-dataset"
   ]
  },
  {
   "cell_type": "markdown",
   "metadata": {},
   "source": [
    "**Context**\n",
    "\n",
    "This is the sentiment140 dataset. It contains 1,600,000 tweets extracted using the Twitter API. The tweets have been annotated (0 = negative, 4 = positive) and can be used to detect sentiment.\n",
    "\n",
    "**Content**\n",
    "\n",
    "It contains the following 6 fields:\n",
    "\n",
    "* target: the polarity of the tweet (0 = negative and 4 = positive)\n",
    "* ids: The id of the tweet ( 2087)\n",
    "* date: the date of the tweet (Sat May 16 23:58:44 UTC 2009)\n",
    "* flag: The query (lyx). If there is no query, then this value is NO_QUERY.\n",
    "* user: the user that tweeted.\n",
    "* text: the text of the tweet."
   ]
  },
  {
   "cell_type": "markdown",
   "metadata": {},
   "source": [
    "## **1. Exploratory Data Analysis** "
   ]
  },
  {
   "cell_type": "code",
   "execution_count": 5,
   "metadata": {},
   "outputs": [
    {
     "name": "stdout",
     "output_type": "stream",
     "text": [
      "Note: you may need to restart the kernel to use updated packages.\n"
     ]
    },
    {
     "name": "stderr",
     "output_type": "stream",
     "text": [
      "ERROR: Invalid requirement: 'contractions,'\n",
      "[nltk_data] Downloading package wordnet to\n",
      "[nltk_data]     C:\\Users\\macie\\AppData\\Roaming\\nltk_data...\n",
      "[nltk_data]   Package wordnet is already up-to-date!\n",
      "[nltk_data] Downloading package omw-1.4 to\n",
      "[nltk_data]     C:\\Users\\macie\\AppData\\Roaming\\nltk_data...\n",
      "[nltk_data]   Package omw-1.4 is already up-to-date!\n"
     ]
    }
   ],
   "source": [
    "# import libraries\n",
    "import numpy as np\n",
    "import pandas as pd\n",
    "from matplotlib import pyplot as plt\n",
    "import seaborn as sns\n",
    "from sklearn.model_selection import train_test_split\n",
    "\n",
    "%pip install contractions, wordcloud, tensorflow\n",
    "\n",
    "# text processing libraries\n",
    "import re\n",
    "import contractions\n",
    "\n",
    "from collections import Counter\n",
    "# import string\n",
    "import nltk\n",
    "# import warnings\n",
    "# %matplotlib inline\n",
    "# warnings.filterwarnings(\"ignore\")\n",
    "from nltk.stem.porter import PorterStemmer\n",
    "from wordcloud import WordCloud\n",
    "\n",
    "from nltk.stem import WordNetLemmatizer\n",
    "nltk.download(\"wordnet\")\n",
    "nltk.download(\"omw-1.4\")\n",
    "\n",
    "from sklearn.feature_extraction.text import CountVectorizer\n",
    "\n",
    "from sklearn.linear_model import LogisticRegression\n",
    "from sklearn.metrics import f1_score, accuracy_score, confusion_matrix\n",
    "\n",
    "import tensorflow as tf\n",
    "from tensorflow import keras\n",
    "from tensorflow.keras.preprocessing.text import Tokenizer\n",
    "from tensorflow.keras.preprocessing.sequence import pad_sequences\n"
   ]
  },
  {
   "cell_type": "markdown",
   "metadata": {},
   "source": [
    "Pandas and Numpy have been used for data manipulation and numerical calculations\n",
    "\n",
    "Matplotlib and Seaborn have been used for data visualizations"
   ]
  },
  {
   "cell_type": "code",
   "execution_count": 6,
   "metadata": {},
   "outputs": [],
   "source": [
    "# import data   \n",
    "tweets = pd.read_csv(\"..//data//tweets.csv\", encoding=\"latin-1\")"
   ]
  },
  {
   "cell_type": "code",
   "execution_count": 7,
   "metadata": {},
   "outputs": [
    {
     "data": {
      "text/html": [
       "<div>\n",
       "<style scoped>\n",
       "    .dataframe tbody tr th:only-of-type {\n",
       "        vertical-align: middle;\n",
       "    }\n",
       "\n",
       "    .dataframe tbody tr th {\n",
       "        vertical-align: top;\n",
       "    }\n",
       "\n",
       "    .dataframe thead th {\n",
       "        text-align: right;\n",
       "    }\n",
       "</style>\n",
       "<table border=\"1\" class=\"dataframe\">\n",
       "  <thead>\n",
       "    <tr style=\"text-align: right;\">\n",
       "      <th></th>\n",
       "      <th>Target</th>\n",
       "      <th>ID</th>\n",
       "      <th>Date</th>\n",
       "      <th>flag</th>\n",
       "      <th>User</th>\n",
       "      <th>Text</th>\n",
       "    </tr>\n",
       "  </thead>\n",
       "  <tbody>\n",
       "    <tr>\n",
       "      <th>0</th>\n",
       "      <td>0</td>\n",
       "      <td>1467810672</td>\n",
       "      <td>Mon Apr 06 22:19:49 PDT 2009</td>\n",
       "      <td>NO_QUERY</td>\n",
       "      <td>scotthamilton</td>\n",
       "      <td>is upset that he can't update his Facebook by ...</td>\n",
       "    </tr>\n",
       "    <tr>\n",
       "      <th>1</th>\n",
       "      <td>0</td>\n",
       "      <td>1467810917</td>\n",
       "      <td>Mon Apr 06 22:19:53 PDT 2009</td>\n",
       "      <td>NO_QUERY</td>\n",
       "      <td>mattycus</td>\n",
       "      <td>@Kenichan I dived many times for the ball. Man...</td>\n",
       "    </tr>\n",
       "    <tr>\n",
       "      <th>2</th>\n",
       "      <td>0</td>\n",
       "      <td>1467811184</td>\n",
       "      <td>Mon Apr 06 22:19:57 PDT 2009</td>\n",
       "      <td>NO_QUERY</td>\n",
       "      <td>ElleCTF</td>\n",
       "      <td>my whole body feels itchy and like its on fire</td>\n",
       "    </tr>\n",
       "    <tr>\n",
       "      <th>3</th>\n",
       "      <td>0</td>\n",
       "      <td>1467811193</td>\n",
       "      <td>Mon Apr 06 22:19:57 PDT 2009</td>\n",
       "      <td>NO_QUERY</td>\n",
       "      <td>Karoli</td>\n",
       "      <td>@nationwideclass no, it's not behaving at all....</td>\n",
       "    </tr>\n",
       "    <tr>\n",
       "      <th>4</th>\n",
       "      <td>0</td>\n",
       "      <td>1467811372</td>\n",
       "      <td>Mon Apr 06 22:20:00 PDT 2009</td>\n",
       "      <td>NO_QUERY</td>\n",
       "      <td>joy_wolf</td>\n",
       "      <td>@Kwesidei not the whole crew</td>\n",
       "    </tr>\n",
       "  </tbody>\n",
       "</table>\n",
       "</div>"
      ],
      "text/plain": [
       "   Target          ID                          Date      flag           User  \\\n",
       "0       0  1467810672  Mon Apr 06 22:19:49 PDT 2009  NO_QUERY  scotthamilton   \n",
       "1       0  1467810917  Mon Apr 06 22:19:53 PDT 2009  NO_QUERY       mattycus   \n",
       "2       0  1467811184  Mon Apr 06 22:19:57 PDT 2009  NO_QUERY        ElleCTF   \n",
       "3       0  1467811193  Mon Apr 06 22:19:57 PDT 2009  NO_QUERY         Karoli   \n",
       "4       0  1467811372  Mon Apr 06 22:20:00 PDT 2009  NO_QUERY       joy_wolf   \n",
       "\n",
       "                                                Text  \n",
       "0  is upset that he can't update his Facebook by ...  \n",
       "1  @Kenichan I dived many times for the ball. Man...  \n",
       "2    my whole body feels itchy and like its on fire   \n",
       "3  @nationwideclass no, it's not behaving at all....  \n",
       "4                      @Kwesidei not the whole crew   "
      ]
     },
     "execution_count": 7,
     "metadata": {},
     "output_type": "execute_result"
    }
   ],
   "source": [
    "tweets.head()"
   ]
  },
  {
   "cell_type": "markdown",
   "metadata": {},
   "source": [
    "## **2. Splitting dataset into training, valid and testing parts**"
   ]
  },
  {
   "cell_type": "code",
   "execution_count": 5,
   "metadata": {},
   "outputs": [],
   "source": [
    "x_train_valid, x_test, y_train_valid, y_test = train_test_split(\n",
    "    tweets.drop(columns=['Target']), # X\n",
    "    tweets['Target'], # y\n",
    "    test_size=0.3, random_state=42)"
   ]
  },
  {
   "cell_type": "code",
   "execution_count": 6,
   "metadata": {},
   "outputs": [
    {
     "data": {
      "text/plain": [
       "((734002, 5), (734002,), (314573, 5), (314573,))"
      ]
     },
     "execution_count": 6,
     "metadata": {},
     "output_type": "execute_result"
    }
   ],
   "source": [
    "x_train_valid.shape, y_train_valid.shape, x_test.shape, y_test.shape "
   ]
  },
  {
   "cell_type": "code",
   "execution_count": 7,
   "metadata": {},
   "outputs": [],
   "source": [
    "x_train, x_valid, y_train, y_valid = train_test_split(\n",
    "    x_train_valid, # X\n",
    "    y_train_valid, # y\n",
    "    test_size=0.3, random_state=42)"
   ]
  },
  {
   "cell_type": "code",
   "execution_count": 8,
   "metadata": {},
   "outputs": [
    {
     "data": {
      "text/plain": [
       "((513801, 5), (513801,), (220201, 5), (220201,))"
      ]
     },
     "execution_count": 8,
     "metadata": {},
     "output_type": "execute_result"
    }
   ],
   "source": [
    "x_train.shape, y_train.shape, x_valid.shape, y_valid.shape"
   ]
  },
  {
   "cell_type": "code",
   "execution_count": null,
   "metadata": {},
   "outputs": [],
   "source": [
    "# saving to files\n",
    "# x_train.to_csv(\"..//data//x_train.csv\", index=False)\n",
    "# y_train.to_csv(\"..//data//y_train.csv\", index=False)\n",
    "# x_valid.to_csv(\"..//data//x_valid.csv\", index=False)\n",
    "# y_valid.to_csv(\"..//data//y_valid.csv\", index=False)\n",
    "# x_test.to_csv(\"..//data//x_test.csv\", index=False)\n",
    "# y_test.to_csv(\"..//data//y_test.csv\", index=False)"
   ]
  },
  {
   "cell_type": "markdown",
   "metadata": {},
   "source": [
    "## EDA\n"
   ]
  },
  {
   "cell_type": "code",
   "execution_count": null,
   "metadata": {},
   "outputs": [],
   "source": [
    "# check the shape of the dataframe\n",
    "# df = x_train\n",
    "# df['Target'] = y_train\n",
    "df = x_valid\n",
    "df['Target'] = y_valid\n",
    "print(\"Shape of the dataframe:\", df.shape)"
   ]
  },
  {
   "cell_type": "code",
   "execution_count": null,
   "metadata": {},
   "outputs": [],
   "source": [
    "# display the first few rows of the dataframe\n",
    "df.head()"
   ]
  },
  {
   "cell_type": "code",
   "execution_count": null,
   "metadata": {},
   "outputs": [],
   "source": [
    "# display the last few rows of the dataframe\n",
    "df.tail()"
   ]
  },
  {
   "cell_type": "code",
   "execution_count": null,
   "metadata": {},
   "outputs": [],
   "source": [
    "# display information about data\n",
    "df.info()"
   ]
  },
  {
   "cell_type": "code",
   "execution_count": null,
   "metadata": {},
   "outputs": [],
   "source": [
    "# check for duplication\n",
    "df.nunique()"
   ]
  },
  {
   "cell_type": "code",
   "execution_count": null,
   "metadata": {},
   "outputs": [],
   "source": [
    "# check for missing values\n",
    "df.isnull().sum()"
   ]
  },
  {
   "cell_type": "code",
   "execution_count": null,
   "metadata": {},
   "outputs": [],
   "source": [
    "# summary statistics of numerical columns\n",
    "df.describe()"
   ]
  },
  {
   "cell_type": "markdown",
   "metadata": {},
   "source": [
    "**Data reduction**\n",
    "\n",
    "Some columns or variables can be dropped if they do not add value to our analysis\n",
    "\n",
    "In our dataset, columns ID, Date, flag, User don’t have any predictive power to predict the dependent variable"
   ]
  },
  {
   "cell_type": "code",
   "execution_count": null,
   "metadata": {},
   "outputs": [],
   "source": [
    "data = df.drop(['ID', 'Date', 'flag', 'User'], axis = 'columns')\n",
    "data"
   ]
  },
  {
   "cell_type": "markdown",
   "metadata": {},
   "source": [
    "**Data cleaning**\n",
    "\n",
    "Some names of the variables are not relevant and not easy to understand\n",
    "\n",
    "Some data may have data entry errors, and some variables may need data type conversion. We need to fix this issue in the data"
   ]
  },
  {
   "cell_type": "code",
   "execution_count": null,
   "metadata": {},
   "outputs": [],
   "source": [
    "# adjusting target values\n",
    "data['Target'] = data['Target'].replace(4, 1)\n",
    "data"
   ]
  },
  {
   "cell_type": "code",
   "execution_count": null,
   "metadata": {},
   "outputs": [],
   "source": [
    "# removing unnecessary user tags\n",
    "data['Text'] = data['Text'].replace(r\"@\\w+\", \"\", regex=True)\n",
    "data\n"
   ]
  },
  {
   "cell_type": "code",
   "execution_count": null,
   "metadata": {},
   "outputs": [],
   "source": [
    "# resolving contractions (and slang)\n",
    "data['Text'] = data['Text'].apply(lambda x: contractions.fix(x))\n",
    "data"
   ]
  },
  {
   "cell_type": "code",
   "execution_count": null,
   "metadata": {},
   "outputs": [],
   "source": [
    "# removing punctuation marks\n",
    "data['Text'] = data['Text'].apply(lambda x: re.sub(r'[^\\w\\s]', '', x))\n",
    "data\n"
   ]
  },
  {
   "cell_type": "code",
   "execution_count": null,
   "metadata": {},
   "outputs": [],
   "source": [
    "# lowercasing letters in the text\n",
    "data['Text'] = data['Text'].str.lower()\n",
    "data\n"
   ]
  },
  {
   "cell_type": "markdown",
   "metadata": {},
   "source": [
    "**Visualization**"
   ]
  },
  {
   "cell_type": "code",
   "execution_count": null,
   "metadata": {},
   "outputs": [],
   "source": [
    "# visualize class distribution\n",
    "plt.figure(figsize=(5, 5))\n",
    "sns.countplot(x = 'Target' , data = data)\n",
    "plt.title('Class Distribution')\n",
    "plt.xlabel('Sentiment')\n",
    "plt.ylabel('Count')\n",
    "plt.show()"
   ]
  },
  {
   "cell_type": "code",
   "execution_count": null,
   "metadata": {},
   "outputs": [],
   "source": [
    "# checking the percentage of target 1\n",
    "target_counts = data['Target'].value_counts()\n",
    "percentage_target_1 = (target_counts[1] / target_counts.sum()) * 100\n",
    "percentage_target_1"
   ]
  },
  {
   "cell_type": "code",
   "execution_count": null,
   "metadata": {},
   "outputs": [],
   "source": [
    "# explore tweet length\n",
    "data['characters'] = data['Text'].apply(lambda x: len(x))\n",
    "\n",
    "# visualize tweet length distribution\n",
    "plt.figure(figsize = (10, 6))\n",
    "sns.histplot(data['characters'], bins = 60)\n",
    "plt.title('Distribution of tweet length')\n",
    "plt.xlabel('Number of characters')\n",
    "plt.ylabel('Count')\n",
    "plt.show()"
   ]
  },
  {
   "cell_type": "code",
   "execution_count": null,
   "metadata": {},
   "outputs": [],
   "source": [
    "# explore tweet length\n",
    "data['words'] = data['Text'].apply(lambda x: len(x.split()))\n",
    "\n",
    "# visualize tweet length distribution\n",
    "plt.figure(figsize = (10, 6))\n",
    "sns.histplot(data['words'], bins = 30)\n",
    "plt.title('Distribution of tweet length')\n",
    "plt.xlabel('Number of words')\n",
    "plt.ylabel('Count')\n",
    "plt.show()"
   ]
  },
  {
   "cell_type": "code",
   "execution_count": null,
   "metadata": {},
   "outputs": [],
   "source": [
    "\n",
    "# combine all the text into a single string\n",
    "all_text = ' '.join(data['Text'])\n",
    "\n",
    "# split the text into individual words\n",
    "words = all_text.split()\n",
    "\n",
    "# count the frequency of each word\n",
    "word_counts = Counter(words)\n",
    "\n",
    "# get the top 10 most common words\n",
    "top_10_words = word_counts.most_common(10)\n",
    "\n",
    "# extract the words and their counts\n",
    "top_10_words, top_10_counts = zip(*top_10_words)\n",
    "\n",
    "# plot the bar chart\n",
    "plt.figure(figsize=(10, 6))\n",
    "plt.bar(top_10_words, top_10_counts)\n",
    "plt.title('Top 10 Most Common Words')\n",
    "plt.xlabel('Words')\n",
    "plt.ylabel('Count')\n",
    "plt.show()\n"
   ]
  },
  {
   "cell_type": "code",
   "execution_count": null,
   "metadata": {},
   "outputs": [],
   "source": [
    "# average word count depending on sentiment\n",
    "\n",
    "d = data.groupby(\"Target\").words.agg(\"mean\")\n",
    "\n",
    "d.plot(kind = 'bar', color = 'blue')\n",
    "\n",
    "plt.title('Average word count depending on sentiment')\n",
    "plt.xlabel('Sentiment')\n",
    "plt.ylabel('Average word count')\n",
    "plt.xticks(rotation = 0)  \n",
    "plt.show()"
   ]
  },
  {
   "cell_type": "code",
   "execution_count": null,
   "metadata": {},
   "outputs": [],
   "source": [
    "# is # in tweet?\n",
    "\n",
    "data['has_hashtag'] = tweets['Text'].str.contains(r'#\\w+')\n",
    "data"
   ]
  },
  {
   "cell_type": "code",
   "execution_count": null,
   "metadata": {},
   "outputs": [],
   "source": [
    "# is hashtag present in negatives tweets?\n",
    "\n",
    "data[data['Target'] == 0]['has_hashtag'].value_counts().apply(lambda x: x / len(data[data['Target'] == 0]) * 100)\n"
   ]
  },
  {
   "cell_type": "code",
   "execution_count": null,
   "metadata": {},
   "outputs": [],
   "source": [
    "# is hashtag present in positives tweets?\n",
    "\n",
    "data[data['Target'] == 1]['has_hashtag'].value_counts().apply(lambda x: x / len(data[data['Target'] == 1]) * 100)"
   ]
  },
  {
   "cell_type": "code",
   "execution_count": null,
   "metadata": {},
   "outputs": [],
   "source": [
    "# is \"not\" in tweet?\n",
    "\n",
    "data['has_not'] = data['Text'].str.contains('not')\n",
    "data"
   ]
  },
  {
   "cell_type": "code",
   "execution_count": null,
   "metadata": {},
   "outputs": [],
   "source": [
    "# is \"not\" present in negatives tweets?\n",
    "\n",
    "data[data['Target'] == 0]['has_not'].value_counts().apply(lambda x: x / len(data[data['Target'] == 0]) * 100)"
   ]
  },
  {
   "cell_type": "code",
   "execution_count": null,
   "metadata": {},
   "outputs": [],
   "source": [
    "# is \"not\" present in positives tweets?\n",
    "\n",
    "data[data['Target'] == 1]['has_not'].value_counts().apply(lambda x: x / len(data[data['Target'] == 1]) * 100)"
   ]
  },
  {
   "cell_type": "code",
   "execution_count": null,
   "metadata": {},
   "outputs": [],
   "source": [
    "# extract hour from the Date column\n",
    "\n",
    "data['Hour'] = pd.to_datetime(tweets['Date']).dt.hour\n",
    "data\n"
   ]
  },
  {
   "cell_type": "code",
   "execution_count": null,
   "metadata": {},
   "outputs": [],
   "source": [
    "# visualize the distribution of tweets over the day\n",
    "\n",
    "plt.figure(figsize=(10, 6))\n",
    "sns.countplot(x = 'Hour', data = data, color = 'blue')\n",
    "plt.title('Distribution of tweets over the day')\n",
    "plt.xlabel('Hour')\n",
    "plt.ylabel('Count')\n",
    "plt.show()\n"
   ]
  },
  {
   "cell_type": "code",
   "execution_count": null,
   "metadata": {},
   "outputs": [],
   "source": [
    "# visualize the the influence of the hour of writing a tweet on the Target variable\n",
    "hourly_target_counts = data.groupby('Hour')['Target'].value_counts().unstack(fill_value=0)\n",
    "plt.figure(figsize=(15, 6))\n",
    "hourly_target_counts.plot(kind='bar', stacked=True)\n",
    "\n",
    "plt.title('The influence of the hour of writing a tweet on the sentiment')\n",
    "plt.xlabel('Hour')\n",
    "plt.ylabel('Count')\n",
    "plt.xticks(rotation = 0)  \n",
    "\n",
    "plt.show()"
   ]
  },
  {
   "cell_type": "code",
   "execution_count": null,
   "metadata": {},
   "outputs": [],
   "source": [
    "# deleting words which have less characters than 3\n",
    "\n",
    "data['clean_text'] = data[\"Text\"].apply(lambda x: \" \".join([w for w in x.split() if len(w)>=3]))\n",
    "data"
   ]
  },
  {
   "cell_type": "code",
   "execution_count": null,
   "metadata": {},
   "outputs": [],
   "source": [
    "# individual words considered as tokens\n",
    "\n",
    "tokenized_tweet = data['clean_text'].apply(lambda x: x.split())\n",
    "tokenized_tweet"
   ]
  },
  {
   "cell_type": "code",
   "execution_count": null,
   "metadata": {},
   "outputs": [],
   "source": [
    "# stem the words\n",
    "# stemmer = PorterStemmer()\n",
    "\n",
    "# tokenized_tweet = tokenized_tweet.apply(lambda s: [stemmer.stem(word) for word in s]) # stemming\n",
    "# tokenized_tweet\n",
    "# Initialize wordnet lemmatizer only on verbs - makes the biggest sense\n",
    "wnl = WordNetLemmatizer()\n",
    "tokenized_tweet = tokenized_tweet.apply(lambda s: [wnl.lemmatize(word, pos=\"v\") for word in s]) # lemmatization"
   ]
  },
  {
   "cell_type": "code",
   "execution_count": null,
   "metadata": {},
   "outputs": [],
   "source": [
    "tokenized_tweet.iloc[34]"
   ]
  },
  {
   "cell_type": "code",
   "execution_count": null,
   "metadata": {},
   "outputs": [],
   "source": [
    "# combining to sentences\n",
    "combined_sentences = [' '.join(tokens) for tokens in tokenized_tweet]\n",
    "data['combined_tweet'] = combined_sentences\n",
    "data"
   ]
  },
  {
   "cell_type": "code",
   "execution_count": null,
   "metadata": {},
   "outputs": [],
   "source": [
    "all_words = ' '.join([text for text in data['clean_text']])\n",
    "all_words_pos = ' '.join([text for text in data['clean_text'][data['Target'] == 1]])\n",
    "all_words_neg = ' '.join([text for text in data['clean_text'][data['Target'] == 0]])\n",
    "wordcloud = WordCloud(width=800, height=500, random_state=42, max_font_size=100).generate(all_words)\n",
    "wordcloud_pos = WordCloud(width=800, height=500, random_state=42, max_font_size=100).generate(all_words_pos)\n",
    "wordcloud_neg = WordCloud(width=800, height=500, random_state=42, max_font_size=100).generate(all_words_neg)\n",
    "\n",
    "# plot the graph\n",
    "\n",
    "fig, ax = plt.subplots(1, 3, figsize=(15, 10))\n",
    "ax[0].imshow(wordcloud, interpolation=\"bilinear\")\n",
    "ax[0].set_title('All words')\n",
    "ax[0].axis('off')\n",
    "ax[1].imshow(wordcloud_pos, interpolation=\"bilinear\")\n",
    "ax[1].set_title('Words target 1 - Positive')\n",
    "ax[1].axis('off')\n",
    "ax[2].imshow(wordcloud_neg, interpolation=\"bilinear\")\n",
    "ax[2].set_title('Words target 0 - Negative')\n",
    "ax[2].axis('off')\n",
    "fig.show()"
   ]
  },
  {
   "cell_type": "code",
   "execution_count": null,
   "metadata": {},
   "outputs": [],
   "source": [
    "def hashtag_extract(tweetss):\n",
    "    hashtags = []\n",
    "    for tweet in tweetss:\n",
    "        ht = re.findall(r\"#(\\w+)\", tweet)\n",
    "        hashtags.append(ht)\n",
    "    return hashtags"
   ]
  },
  {
   "cell_type": "code",
   "execution_count": null,
   "metadata": {},
   "outputs": [],
   "source": [
    "# extracting hashtags from positive tweets\n",
    "ht_positive = hashtag_extract(df['Text'][data['Target'] == 1])\n",
    "\n",
    "# extracting hashtags from negative tweets\n",
    "ht_negative = hashtag_extract(df['Text'][data['Target'] == 0])"
   ]
  },
  {
   "cell_type": "code",
   "execution_count": null,
   "metadata": {},
   "outputs": [],
   "source": [
    "# unnest list \n",
    "ht_positive = sum(ht_positive, [])\n",
    "ht_negative = sum(ht_negative, [])"
   ]
  },
  {
   "cell_type": "code",
   "execution_count": null,
   "metadata": {},
   "outputs": [],
   "source": [
    "ht_positive[:5]"
   ]
  },
  {
   "cell_type": "code",
   "execution_count": null,
   "metadata": {},
   "outputs": [],
   "source": [
    "ht_negative[:5]"
   ]
  },
  {
   "cell_type": "code",
   "execution_count": null,
   "metadata": {},
   "outputs": [],
   "source": [
    "# converting dictionary to dataframe\n",
    "freq = nltk.FreqDist(ht_positive)\n",
    "d = pd.DataFrame({'Hashtag': list(freq.keys()), \n",
    "                  'Count': list(freq.values())\n",
    "                  })\n",
    "d.sort_values(by='Count', ascending=False)"
   ]
  },
  {
   "cell_type": "code",
   "execution_count": null,
   "metadata": {},
   "outputs": [],
   "source": [
    "# selecting top 10 most frequent hashtags positive\n",
    "d = d.nlargest(columns=\"Count\", n = 10)\n",
    "plt.figure(figsize=(15,8))\n",
    "sns.barplot(data=d, x= \"Hashtag\", y = \"Count\", color=\"blue\")\n",
    "plt.title('Top 10 most frequent hashtags in positive tweets')"
   ]
  },
  {
   "cell_type": "code",
   "execution_count": null,
   "metadata": {},
   "outputs": [],
   "source": [
    "# converting dictionary to dataframe\n",
    "freq = nltk.FreqDist(ht_negative)\n",
    "d = pd.DataFrame({'Hashtag': list(freq.keys()), \n",
    "                  'Count': list(freq.values())\n",
    "                  })\n",
    "d.sort_values(by='Count', ascending=False)"
   ]
  },
  {
   "cell_type": "code",
   "execution_count": null,
   "metadata": {},
   "outputs": [],
   "source": [
    "# selecting top 10 most frequent hashtags negative\n",
    "d = d.nlargest(columns=\"Count\", n = 10)\n",
    "plt.figure(figsize=(15,8))\n",
    "sns.barplot(data=d, x= \"Hashtag\", y = \"Count\", color=\"blue\")\n",
    "plt.title('Top 10 most frequent hashtags in negative tweets')"
   ]
  },
  {
   "cell_type": "markdown",
   "metadata": {},
   "source": [
    "## **2. Feature engineering** "
   ]
  },
  {
   "cell_type": "code",
   "execution_count": 8,
   "metadata": {},
   "outputs": [
    {
     "name": "stderr",
     "output_type": "stream",
     "text": [
      "[nltk_data] Downloading package wordnet to\n",
      "[nltk_data]     C:\\Users\\macie\\AppData\\Roaming\\nltk_data...\n",
      "[nltk_data]   Package wordnet is already up-to-date!\n",
      "[nltk_data] Downloading package omw-1.4 to\n",
      "[nltk_data]     C:\\Users\\macie\\AppData\\Roaming\\nltk_data...\n",
      "[nltk_data]   Package omw-1.4 is already up-to-date!\n"
     ]
    }
   ],
   "source": [
    "# import libraries\n",
    "import numpy as np\n",
    "import pandas as pd\n",
    "from matplotlib import pyplot as plt\n",
    "import seaborn as sns\n",
    "from sklearn.model_selection import train_test_split\n",
    "\n",
    "\n",
    "# text processing libraries\n",
    "import re\n",
    "import contractions\n",
    "\n",
    "from collections import Counter\n",
    "# import string\n",
    "import nltk\n",
    "# import warnings\n",
    "# %matplotlib inline\n",
    "# warnings.filterwarnings(\"ignore\")\n",
    "from nltk.stem.porter import PorterStemmer\n",
    "from wordcloud import WordCloud\n",
    "\n",
    "from nltk.stem import WordNetLemmatizer\n",
    "nltk.download(\"wordnet\")\n",
    "nltk.download(\"omw-1.4\")\n",
    "\n",
    "from sklearn.feature_extraction.text import CountVectorizer\n",
    "\n",
    "from sklearn.linear_model import LogisticRegression\n",
    "from sklearn.metrics import f1_score, accuracy_score, confusion_matrix, roc_auc_score, classification_report\n",
    "from sklearn.neighbors import KNeighborsClassifier\n",
    "from sklearn.ensemble import RandomForestClassifier\n",
    "from sklearn.tree import DecisionTreeClassifier\n",
    "from sklearn.neural_network import MLPClassifier\n",
    "\n",
    "import tensorflow as tf\n",
    "from tensorflow import keras\n",
    "from tensorflow.keras.preprocessing.text import Tokenizer\n",
    "from tensorflow.keras.preprocessing.sequence import pad_sequences\n"
   ]
  },
  {
   "cell_type": "code",
   "execution_count": 9,
   "metadata": {},
   "outputs": [],
   "source": [
    "# reading splited data\n",
    "x_train = pd.read_csv(\"..//data//x_train.csv\", encoding=\"latin-1\")\n",
    "y_train = pd.read_csv(\"..//data//y_train.csv\", encoding=\"latin-1\")\n",
    "x_test = pd.read_csv(\"..//data//x_test.csv\", encoding=\"latin-1\")\n",
    "y_test = pd.read_csv(\"..//data//y_test.csv\", encoding=\"latin-1\")\n",
    "x_valid = pd.read_csv(\"..//data//x_valid.csv\", encoding=\"latin-1\")\n",
    "y_valid = pd.read_csv(\"..//data//y_valid.csv\", encoding=\"latin-1\")"
   ]
  },
  {
   "cell_type": "code",
   "execution_count": 10,
   "metadata": {},
   "outputs": [],
   "source": [
    "sample_x_train_valid, sample_x_test, sample_y_train_valid, sample_y_test = train_test_split(\n",
    "    tweets.drop(columns=['Target']), # X\n",
    "    tweets['Target'], # y\n",
    "    test_size=0.98, random_state=42)"
   ]
  },
  {
   "cell_type": "code",
   "execution_count": 11,
   "metadata": {},
   "outputs": [
    {
     "data": {
      "text/plain": [
       "((20971, 5), (1027604, 5), (20971,), (1027604,))"
      ]
     },
     "execution_count": 11,
     "metadata": {},
     "output_type": "execute_result"
    }
   ],
   "source": [
    "sample_x_train_valid.shape, sample_x_test.shape, sample_y_train_valid.shape, sample_y_test.shape"
   ]
  },
  {
   "cell_type": "code",
   "execution_count": 12,
   "metadata": {},
   "outputs": [],
   "source": [
    "sample_x_train, sample_x_valid, sample_y_train, sample_y_valid = train_test_split(\n",
    "    sample_x_train_valid, # X\n",
    "    sample_y_train_valid, # y\n",
    "    test_size=0.3, random_state=42)"
   ]
  },
  {
   "cell_type": "code",
   "execution_count": 13,
   "metadata": {},
   "outputs": [
    {
     "data": {
      "text/plain": [
       "((14679, 5), (6292, 5), (14679,), (6292,))"
      ]
     },
     "execution_count": 13,
     "metadata": {},
     "output_type": "execute_result"
    }
   ],
   "source": [
    "sample_x_train.shape, sample_x_valid.shape, sample_y_train.shape, sample_y_valid.shape"
   ]
  },
  {
   "cell_type": "code",
   "execution_count": 14,
   "metadata": {},
   "outputs": [
    {
     "data": {
      "text/plain": [
       "((14679, 5), (14679,), (6292, 5), (6292,))"
      ]
     },
     "execution_count": 14,
     "metadata": {},
     "output_type": "execute_result"
    }
   ],
   "source": [
    "#for demanding models - sample approach\n",
    "x_valid = sample_x_valid\n",
    "y_valid = sample_y_valid\n",
    "x_train = sample_x_train\n",
    "y_train = sample_y_train\n",
    "x_train.shape, y_train.shape, x_valid.shape, y_valid.shape"
   ]
  },
  {
   "cell_type": "code",
   "execution_count": 18,
   "metadata": {},
   "outputs": [],
   "source": [
    "# for building team\n",
    "df_x = x_valid\n",
    "df_y = y_valid"
   ]
  },
  {
   "cell_type": "code",
   "execution_count": 19,
   "metadata": {},
   "outputs": [],
   "source": [
    "# for validation team\n",
    "# df_x = x_test\n",
    "# df_y = y_test"
   ]
  },
  {
   "cell_type": "code",
   "execution_count": 20,
   "metadata": {},
   "outputs": [],
   "source": [
    "#changing 4 into 1\n",
    "df_y = df_y.replace(4, 1)\n",
    "y_train = y_train.replace(4, 1)"
   ]
  },
  {
   "cell_type": "code",
   "execution_count": 21,
   "metadata": {},
   "outputs": [],
   "source": [
    "def clear_data(x): \n",
    "   # removing unnecessary columns\n",
    "   data_frame = x.drop(['ID', 'Date', 'flag', 'User'], axis = 'columns')\n",
    "\n",
    "   # removing unnecessary user tags\n",
    "   data_frame['Text'] = data_frame['Text'].replace(r\"@\\w+\", \"\", regex=True)\n",
    "\n",
    "   # resolving contractions (and slang)\n",
    "   #data_frame['Text'] = data_frame['Text'].apply(lambda x: contractions.fix(x))\n",
    "\n",
    "   # removing punctuation marks\n",
    "   data_frame['Text'] = data_frame['Text'].apply(lambda x: re.sub(r'[^\\?\\!\\w\\s]', '', x))\n",
    "\n",
    "   # deleting websites\n",
    "   data_frame['Text'] = data_frame['Text'].apply(lambda x: re.sub(r'http\\S+', '', x))\n",
    "\n",
    "   # lowercasing letters in the text\n",
    "   #data_frame['Text'] = data_frame['Text'].str.lower()\n",
    "\n",
    "   # removing words with less than 3 characters\n",
    "   data_frame['Text'] = data_frame['Text'].apply(lambda x: \" \".join([w for w in x.split() if len(w) >= 2]))\n",
    "\n",
    "   return data_frame"
   ]
  },
  {
   "cell_type": "code",
   "execution_count": 22,
   "metadata": {},
   "outputs": [],
   "source": [
    "# preparing data for the model \n",
    "x_train = clear_data(x_train)"
   ]
  },
  {
   "cell_type": "code",
   "execution_count": 23,
   "metadata": {},
   "outputs": [],
   "source": [
    "# preparing data for the model validation\n",
    "df_x = clear_data(df_x)"
   ]
  },
  {
   "cell_type": "code",
   "execution_count": 24,
   "metadata": {},
   "outputs": [],
   "source": [
    "# lemmatization\n",
    "def lemmatization(x):\n",
    "    data_frame = x\n",
    "    # individual words considered as tokens\n",
    "    tokenized_tweet = data_frame['Text'].apply(lambda x: x.split())\n",
    "\n",
    "    # Initialize wordnet lemmatizer \n",
    "    wnl = WordNetLemmatizer()\n",
    "    tokenized_tweet = tokenized_tweet.apply(lambda s: [wnl.lemmatize(word, pos='v') for word in s])\n",
    "    tokenized_tweet = tokenized_tweet.apply(lambda s: [wnl.lemmatize(word, pos='n') for word in s])\n",
    "    tokenized_tweet = tokenized_tweet.apply(lambda s: [wnl.lemmatize(word, pos='a') for word in s])\n",
    "    tokenized_tweet = tokenized_tweet.apply(lambda s: [wnl.lemmatize(word, pos='r') for word in s])\n",
    "\n",
    "    # combining to sentences\n",
    "    combined_sentences = [' '.join(tokens) for tokens in tokenized_tweet]\n",
    "    data_frame['combined_tweet'] = combined_sentences\n",
    "    return data_frame"
   ]
  },
  {
   "cell_type": "code",
   "execution_count": 25,
   "metadata": {},
   "outputs": [],
   "source": [
    "# lemmatization data for the model\n",
    "x_train = lemmatization(x_train)"
   ]
  },
  {
   "cell_type": "code",
   "execution_count": 26,
   "metadata": {},
   "outputs": [],
   "source": [
    "# lemmitization data for the model validation\n",
    "df_x = lemmatization(df_x)"
   ]
  },
  {
   "cell_type": "code",
   "execution_count": 27,
   "metadata": {},
   "outputs": [
    {
     "data": {
      "text/plain": [
       "['found',\n",
       " 'a',\n",
       " 'anywhere',\n",
       " 'sometime',\n",
       " 'perhaps',\n",
       " 'will',\n",
       " 'latter',\n",
       " 'during',\n",
       " 'being',\n",
       " 'whoever',\n",
       " 'formerly',\n",
       " 'might',\n",
       " 'sometimes',\n",
       " 'about',\n",
       " 'anything',\n",
       " 'you',\n",
       " 'almost',\n",
       " 'under',\n",
       " 'ie',\n",
       " 'do',\n",
       " 'more',\n",
       " 'ours',\n",
       " 'how',\n",
       " 'empty',\n",
       " 'because',\n",
       " 'detail',\n",
       " 'serious',\n",
       " 'side',\n",
       " 'now',\n",
       " 'get',\n",
       " 'else',\n",
       " 'give',\n",
       " 'always',\n",
       " 'themselves',\n",
       " 'nevertheless',\n",
       " 'eg',\n",
       " 'against',\n",
       " 'when',\n",
       " 'he',\n",
       " 'below',\n",
       " 'every',\n",
       " 'another',\n",
       " 'anyway',\n",
       " 'ever',\n",
       " 'much',\n",
       " 'few',\n",
       " 'hereafter',\n",
       " 'hence',\n",
       " 'yourselves',\n",
       " 'no',\n",
       " 'thick',\n",
       " 'everything',\n",
       " 'full',\n",
       " 'off',\n",
       " 'eleven',\n",
       " 'thereupon',\n",
       " 'has',\n",
       " 'whence',\n",
       " 'along',\n",
       " 'still',\n",
       " 'itself',\n",
       " 'seeming',\n",
       " 'down',\n",
       " 'indeed',\n",
       " 'co',\n",
       " 'is',\n",
       " 'within',\n",
       " 'except',\n",
       " 'de',\n",
       " 'namely',\n",
       " 'enough',\n",
       " 'show',\n",
       " 'if',\n",
       " 'who',\n",
       " 'thereafter',\n",
       " 'seemed',\n",
       " 'top',\n",
       " 'anyhow',\n",
       " 'call',\n",
       " 'keep',\n",
       " 'its',\n",
       " 'something',\n",
       " 'then',\n",
       " 'ltd',\n",
       " 'thereby',\n",
       " 'been',\n",
       " 'fifteen',\n",
       " 'con',\n",
       " 'twelve',\n",
       " 'both',\n",
       " 'wherever',\n",
       " 'many',\n",
       " 'what',\n",
       " 'yours',\n",
       " 'any',\n",
       " 'becomes',\n",
       " 'sixty',\n",
       " 'often',\n",
       " 'although',\n",
       " 'i',\n",
       " 'whom',\n",
       " 'becoming',\n",
       " 'eight',\n",
       " 'hereupon',\n",
       " 'between',\n",
       " 'rather',\n",
       " 'himself',\n",
       " 'this',\n",
       " 'she',\n",
       " 'someone',\n",
       " 'and',\n",
       " 'into',\n",
       " 'be',\n",
       " 'afterwards',\n",
       " 'here',\n",
       " 'therefore',\n",
       " 'via',\n",
       " 'neither',\n",
       " 'describe',\n",
       " 'for',\n",
       " 'go',\n",
       " 'sincere',\n",
       " 'everyone',\n",
       " 'herself',\n",
       " 'there',\n",
       " 'among',\n",
       " 'several',\n",
       " 'last',\n",
       " 'beyond',\n",
       " 'elsewhere',\n",
       " 'latterly',\n",
       " 'inc',\n",
       " 'etc',\n",
       " 'throughout',\n",
       " 'whereby',\n",
       " 'yourself',\n",
       " 'those',\n",
       " 'seems',\n",
       " 'already',\n",
       " 'me',\n",
       " 'each',\n",
       " 'first',\n",
       " 'system',\n",
       " 'whether',\n",
       " 'take',\n",
       " 'amount',\n",
       " 'whereas',\n",
       " 'none',\n",
       " 'became',\n",
       " 'amoungst',\n",
       " 're',\n",
       " 'whatever',\n",
       " 'wherein',\n",
       " 'on',\n",
       " 'up',\n",
       " 'was',\n",
       " 'than',\n",
       " 'find',\n",
       " 'again',\n",
       " 'same',\n",
       " 'should',\n",
       " 'which',\n",
       " 'somewhere',\n",
       " 'once',\n",
       " 'seem',\n",
       " 'other',\n",
       " 'were',\n",
       " 'are',\n",
       " 'move',\n",
       " 'moreover',\n",
       " 'mostly',\n",
       " 'others',\n",
       " 'towards',\n",
       " 'third',\n",
       " 'thence',\n",
       " 'after',\n",
       " 'nowhere',\n",
       " 'had',\n",
       " 'but',\n",
       " 'an',\n",
       " 'further',\n",
       " 'name',\n",
       " 'hasnt',\n",
       " 'at',\n",
       " 'it',\n",
       " 'former',\n",
       " 'without',\n",
       " 'until',\n",
       " 'fifty',\n",
       " 'back',\n",
       " 'across',\n",
       " 'become',\n",
       " 'whenever',\n",
       " 'mill',\n",
       " 'also',\n",
       " 'bottom',\n",
       " 'onto',\n",
       " 'through',\n",
       " 'due',\n",
       " 'the',\n",
       " 'therein',\n",
       " 'behind',\n",
       " 'besides',\n",
       " 'fire',\n",
       " 'some',\n",
       " 'somehow',\n",
       " 'we',\n",
       " 'over',\n",
       " 'that',\n",
       " 'made',\n",
       " 'hereby',\n",
       " 'part',\n",
       " 'four',\n",
       " 'per',\n",
       " 'thin',\n",
       " 'whole',\n",
       " 'nine',\n",
       " 'one',\n",
       " 'our',\n",
       " 'your',\n",
       " 'nor',\n",
       " 'before',\n",
       " 'him',\n",
       " 'too',\n",
       " 'so',\n",
       " 'us',\n",
       " 'even',\n",
       " 'either',\n",
       " 'them',\n",
       " 'own',\n",
       " 'would',\n",
       " 'whose',\n",
       " 'thru',\n",
       " 'only',\n",
       " 'two',\n",
       " 'mine',\n",
       " 'amongst',\n",
       " 'upon',\n",
       " 'my',\n",
       " 'am',\n",
       " 'to',\n",
       " 'anyone',\n",
       " 'bill',\n",
       " 'meanwhile',\n",
       " 'thus',\n",
       " 'three',\n",
       " 'five',\n",
       " 'less',\n",
       " 'un',\n",
       " 'otherwise',\n",
       " 'have',\n",
       " 'next',\n",
       " 'out',\n",
       " 'as',\n",
       " 'see',\n",
       " 'hundred',\n",
       " 'from',\n",
       " 'herein',\n",
       " 'may',\n",
       " 'whereupon',\n",
       " 'never',\n",
       " 'interest',\n",
       " 'since',\n",
       " 'ourselves',\n",
       " 'or',\n",
       " 'in',\n",
       " 'toward',\n",
       " 'please',\n",
       " 'all',\n",
       " 'forty',\n",
       " 'by',\n",
       " 'while',\n",
       " 'most',\n",
       " 'of',\n",
       " 'their',\n",
       " 'six',\n",
       " 'they',\n",
       " 'around',\n",
       " 'however',\n",
       " 'these',\n",
       " 'above',\n",
       " 'ten',\n",
       " 'his',\n",
       " 'front',\n",
       " 'where',\n",
       " 'whither',\n",
       " 'twenty',\n",
       " 'yet',\n",
       " 'put',\n",
       " 'whereafter',\n",
       " 'least',\n",
       " 'beforehand',\n",
       " 'hers',\n",
       " 'everywhere',\n",
       " 'done',\n",
       " 'must',\n",
       " 'with',\n",
       " 'beside',\n",
       " 'though',\n",
       " 'her',\n",
       " 'fill']"
      ]
     },
     "execution_count": 27,
     "metadata": {},
     "output_type": "execute_result"
    }
   ],
   "source": [
    "# selecting stop words to be removed\n",
    "custom_stop_words = CountVectorizer(stop_words='english').get_stop_words()\n",
    "custom_stop_words = set(custom_stop_words) - {'not','alone','why','well','very','together','such','nobody','noone','nothing','myself','cry','cannot','cant','can','could','couldnt'}\n",
    "custom_stop_words = list(custom_stop_words)\n",
    "custom_stop_words\n"
   ]
  },
  {
   "cell_type": "markdown",
   "metadata": {},
   "source": [
    "### Bag of words model  "
   ]
  },
  {
   "cell_type": "code",
   "execution_count": 28,
   "metadata": {},
   "outputs": [],
   "source": [
    "# bag of words conditions and vectorization\n",
    "bow_vectorizer = CountVectorizer(max_df = 0.95, min_df = 5, max_features = 13000, stop_words=custom_stop_words)\n",
    "bow = bow_vectorizer.fit_transform(x_train['combined_tweet'])\n",
    "# vectorization of the validation data\n",
    "bow2 = bow_vectorizer.transform(df_x['combined_tweet'])"
   ]
  },
  {
   "cell_type": "code",
   "execution_count": 29,
   "metadata": {},
   "outputs": [],
   "source": [
    "# plotting the confusion matrix\n",
    "def plot_cm(df_y, pred):\n",
    "    cm = confusion_matrix(df_y, pred)\n",
    "\n",
    "    # Calculate the total number of samples\n",
    "    total_samples = np.sum(cm)\n",
    "\n",
    "    # Convert the values in the confusion matrix to percentages\n",
    "    cm_percent = (cm / total_samples) * 100\n",
    "\n",
    "    # Plotting the confusion matrix\n",
    "    plt.figure(figsize=(8, 6))\n",
    "    sns.heatmap(cm_percent, annot=True, fmt='.2f', cmap='Blues', annot_kws={\"size\": 16})\n",
    "    plt.xlabel('Predicted')\n",
    "    plt.ylabel('True')\n",
    "    plt.title('Confusion Matrix (in Percentages)')\n",
    "    plt.show()"
   ]
  },
  {
   "cell_type": "code",
   "execution_count": 30,
   "metadata": {},
   "outputs": [],
   "source": [
    "def print_score(y_test, y_pred):\n",
    "    f1 = f1_score(y_test, y_pred)\n",
    "    acc = accuracy_score(y_test, y_pred)\n",
    "    auc = roc_auc_score(y_test, y_pred)\n",
    "    gini = 2 * auc - 1\n",
    "    print(\"F1 score: \", f1, \"\\nAccuracy: \", acc, \"\\nAUC: \", auc, \"\\nGini: \", gini)\n",
    "    print(classification_report(y_test,y_pred))\n",
    "    "
   ]
  },
  {
   "cell_type": "code",
   "execution_count": 31,
   "metadata": {},
   "outputs": [],
   "source": [
    "def train_test_lr(x_train, y_train, x_test, y_test):\n",
    "    # Logistic Regression\n",
    "    print(\"\\n##########   Logistic Regression   ##########\\n\")\n",
    "    model = LogisticRegression(max_iter=13000)\n",
    "    model.fit(x_train, y_train)\n",
    "    y_pred = model.predict(x_test)\n",
    "    print_score(y_test, y_pred)\n",
    "    plot_cm(y_test, y_pred)"
   ]
  },
  {
   "cell_type": "code",
   "execution_count": 32,
   "metadata": {},
   "outputs": [],
   "source": [
    "\n",
    "def train_test_KNeighborsClassifier(x_train, y_train, x_test, y_test):\n",
    "    # KNeighborsClassifier\n",
    "    print(\"\\n##########   KNeighborsClassifier   ##########\\n\")\n",
    "    model = KNeighborsClassifier(n_neighbors=5)\n",
    "    model.fit(x_train, y_train)\n",
    "    y_pred = model.predict(x_test)\n",
    "    print_score(y_test, y_pred)\n",
    "    plot_cm(y_test, y_pred)"
   ]
  },
  {
   "cell_type": "code",
   "execution_count": 33,
   "metadata": {},
   "outputs": [],
   "source": [
    "def train_test_RandomForestClassifier(x_train, y_train, x_test, y_test):\n",
    "    # RandomForestClassifier\n",
    "    print(\"\\n##########   RandomForestClassifier   ##########\\n\")\n",
    "    model = RandomForestClassifier(n_estimators=100, random_state=42)\n",
    "    model.fit(x_train, y_train)\n",
    "    y_pred = model.predict(x_test)\n",
    "    print_score(y_test, y_pred)\n",
    "    plot_cm(y_test, y_pred)"
   ]
  },
  {
   "cell_type": "code",
   "execution_count": 34,
   "metadata": {},
   "outputs": [],
   "source": [
    "\n",
    "def train_test_DecisionTreeClasifier(x_train, y_train, x_test, y_test):\n",
    "    # DecisionTreeClasifier\n",
    "    print(\"\\n##########   DecisionTreeClasifier   ##########\\n\")\n",
    "    model = DecisionTreeClassifier(random_state=42)\n",
    "    model.fit(x_train, y_train)\n",
    "    y_pred = model.predict(x_test)\n",
    "    print_score(y_test, y_pred)\n",
    "    plot_cm(y_test, y_pred)"
   ]
  },
  {
   "cell_type": "code",
   "execution_count": 35,
   "metadata": {},
   "outputs": [],
   "source": [
    "def train_test_MLPClassifier(x_train, y_train, x_test, y_test):\n",
    "    # MLPClassifier\n",
    "    print(\"\\n##########   MLPClassifier   ##########\\n\")\n",
    "    model = MLPClassifier(solver='lbfgs', alpha=1e-5, hidden_layer_sizes=(5, 2), random_state=42)\n",
    "    model.fit(x_train, y_train)\n",
    "    y_pred = model.predict(x_test)\n",
    "    print_score(y_test, y_pred)\n",
    "    plot_cm(y_test, y_pred)"
   ]
  },
  {
   "cell_type": "code",
   "execution_count": 36,
   "metadata": {},
   "outputs": [
    {
     "name": "stdout",
     "output_type": "stream",
     "text": [
      "\n",
      "##########   Logistic Regression   ##########\n",
      "\n",
      "F1 score:  0.4871687000420698 \n",
      "Accuracy:  0.8062619198982836 \n",
      "AUC:  0.6622583937423261 \n",
      "Gini:  0.3245167874846522\n",
      "              precision    recall  f1-score   support\n",
      "\n",
      "           0       0.83      0.94      0.88      4803\n",
      "           1       0.65      0.39      0.49      1489\n",
      "\n",
      "    accuracy                           0.81      6292\n",
      "   macro avg       0.74      0.66      0.68      6292\n",
      "weighted avg       0.79      0.81      0.79      6292\n",
      "\n"
     ]
    },
    {
     "data": {
      "image/png": "[encoded data removed]",
      "text/plain": [
       "<Figure size 576x432 with 2 Axes>"
      ]
     },
     "metadata": {
      "needs_background": "light"
     },
     "output_type": "display_data"
    }
   ],
   "source": [
    "train_test_lr(bow, y_train, bow2, df_y)\n",
    "#train_test_KNeighborsClassifier(bow, y_train, bow2, df_y) #długo mieli"
   ]
  },
  {
   "cell_type": "code",
   "execution_count": 37,
   "metadata": {},
   "outputs": [
    {
     "name": "stdout",
     "output_type": "stream",
     "text": [
      "\n",
      "##########   RandomForestClassifier   ##########\n",
      "\n",
      "F1 score:  0.4950564971751412 \n",
      "Accuracy:  0.7727272727272727 \n",
      "AUC:  0.6685596518965438 \n",
      "Gini:  0.3371193037930875\n",
      "              precision    recall  f1-score   support\n",
      "\n",
      "           0       0.84      0.87      0.85      4803\n",
      "           1       0.52      0.47      0.50      1489\n",
      "\n",
      "    accuracy                           0.77      6292\n",
      "   macro avg       0.68      0.67      0.67      6292\n",
      "weighted avg       0.77      0.77      0.77      6292\n",
      "\n"
     ]
    },
    {
     "data": {
      "image/png": "[encoded data removed]",
      "text/plain": [
       "<Figure size 576x432 with 2 Axes>"
      ]
     },
     "metadata": {
      "needs_background": "light"
     },
     "output_type": "display_data"
    }
   ],
   "source": [
    "train_test_RandomForestClassifier(bow, y_train, bow2, df_y)"
   ]
  },
  {
   "cell_type": "code",
   "execution_count": 38,
   "metadata": {},
   "outputs": [
    {
     "name": "stdout",
     "output_type": "stream",
     "text": [
      "\n",
      "##########   DecisionTreeClasifier   ##########\n",
      "\n",
      "F1 score:  0.45705024311183146 \n",
      "Accuracy:  0.7337889383343928 \n",
      "AUC:  0.6439815360530629 \n",
      "Gini:  0.2879630721061257\n",
      "              precision    recall  f1-score   support\n",
      "\n",
      "           0       0.83      0.81      0.82      4803\n",
      "           1       0.44      0.47      0.46      1489\n",
      "\n",
      "    accuracy                           0.73      6292\n",
      "   macro avg       0.64      0.64      0.64      6292\n",
      "weighted avg       0.74      0.73      0.74      6292\n",
      "\n"
     ]
    },
    {
     "data": {
      "image/png": "[encoded data removed]",
      "text/plain": [
       "<Figure size 576x432 with 2 Axes>"
      ]
     },
     "metadata": {
      "needs_background": "light"
     },
     "output_type": "display_data"
    }
   ],
   "source": [
    "train_test_DecisionTreeClasifier(bow, y_train, bow2, df_y)"
   ]
  },
  {
   "cell_type": "code",
   "execution_count": 39,
   "metadata": {},
   "outputs": [
    {
     "name": "stdout",
     "output_type": "stream",
     "text": [
      "\n",
      "##########   MLPClassifier   ##########\n",
      "\n",
      "F1 score:  0.0 \n",
      "Accuracy:  0.7633502860775588 \n",
      "AUC:  0.5 \n",
      "Gini:  0.0\n",
      "              precision    recall  f1-score   support\n",
      "\n",
      "           0       0.76      1.00      0.87      4803\n",
      "           1       0.00      0.00      0.00      1489\n",
      "\n",
      "    accuracy                           0.76      6292\n",
      "   macro avg       0.38      0.50      0.43      6292\n",
      "weighted avg       0.58      0.76      0.66      6292\n",
      "\n"
     ]
    },
    {
     "name": "stderr",
     "output_type": "stream",
     "text": [
      "c:\\Users\\macie\\anaconda3\\lib\\site-packages\\sklearn\\metrics\\_classification.py:1318: UndefinedMetricWarning: Precision and F-score are ill-defined and being set to 0.0 in labels with no predicted samples. Use `zero_division` parameter to control this behavior.\n",
      "  _warn_prf(average, modifier, msg_start, len(result))\n",
      "c:\\Users\\macie\\anaconda3\\lib\\site-packages\\sklearn\\metrics\\_classification.py:1318: UndefinedMetricWarning: Precision and F-score are ill-defined and being set to 0.0 in labels with no predicted samples. Use `zero_division` parameter to control this behavior.\n",
      "  _warn_prf(average, modifier, msg_start, len(result))\n",
      "c:\\Users\\macie\\anaconda3\\lib\\site-packages\\sklearn\\metrics\\_classification.py:1318: UndefinedMetricWarning: Precision and F-score are ill-defined and being set to 0.0 in labels with no predicted samples. Use `zero_division` parameter to control this behavior.\n",
      "  _warn_prf(average, modifier, msg_start, len(result))\n"
     ]
    },
    {
     "data": {
      "image/png": "[encoded data removed]",
      "text/plain": [
       "<Figure size 576x432 with 2 Axes>"
      ]
     },
     "metadata": {
      "needs_background": "light"
     },
     "output_type": "display_data"
    }
   ],
   "source": [
    "train_test_MLPClassifier(bow, y_train, bow2, df_y)"
   ]
  },
  {
   "cell_type": "markdown",
   "metadata": {},
   "source": [
    "### Tensorflow model"
   ]
  },
  {
   "cell_type": "code",
   "execution_count": null,
   "metadata": {},
   "outputs": [],
   "source": [
    "# read the CSV file\n",
    "x_train = pd.read_csv('../data/x_train.csv')\n",
    "x_valid = pd.read_csv('../data/x_valid.csv')\n",
    "y_train = pd.read_csv('../data/y_train.csv')\n",
    "y_valid = pd.read_csv('../data/y_valid.csv')\n",
    "x_test = pd.read_csv(\"..//data//x_test.csv\")\n",
    "y_test = pd.read_csv(\"..//data//y_test.csv\")"
   ]
  },
  {
   "cell_type": "code",
   "execution_count": null,
   "metadata": {},
   "outputs": [],
   "source": [
    "# for building team\n",
    "df_x = x_valid\n",
    "df_y = y_valid"
   ]
  },
  {
   "cell_type": "code",
   "execution_count": null,
   "metadata": {},
   "outputs": [],
   "source": [
    "# for validation team\n",
    "# df_x = x_test\n",
    "# df_y = y_test"
   ]
  },
  {
   "cell_type": "code",
   "execution_count": null,
   "metadata": {},
   "outputs": [],
   "source": [
    "# replacing 4 with 1 in the target column to make it binary\n",
    "y_train['Target'] = y_train['Target'].replace(4, 1)\n",
    "df_y['Target'] = df_y['Target'].replace(4, 1)"
   ]
  },
  {
   "cell_type": "code",
   "execution_count": null,
   "metadata": {},
   "outputs": [],
   "source": [
    "# making training and testing sentences\n",
    "training_sentences = x_train['Text'].tolist()\n",
    "testing_sentences = df_x['Text'].tolist()"
   ]
  },
  {
   "cell_type": "code",
   "execution_count": null,
   "metadata": {},
   "outputs": [],
   "source": [
    "# making training and testing labels\n",
    "training_labels = y_train['Target'].tolist()\n",
    "testing_labels = df_y['Target'].tolist()"
   ]
  },
  {
   "cell_type": "code",
   "execution_count": null,
   "metadata": {},
   "outputs": [],
   "source": [
    "# some necessary variables\n",
    "vocab_size = 10000\n",
    "oov_tok = \"<OOV>\"\n",
    "max_length = 80\n",
    "embedding_dim = 16"
   ]
  },
  {
   "cell_type": "code",
   "execution_count": null,
   "metadata": {},
   "outputs": [],
   "source": [
    "# changing the sentences into sequences\n",
    "tokenizer = Tokenizer(num_words=vocab_size, \n",
    "                      oov_token=oov_tok)\n",
    "tokenizer.fit_on_texts(training_sentences)\n",
    "\n",
    "word_index = tokenizer.word_index\n",
    "\n",
    "training_sequences = tokenizer.texts_to_sequences(training_sentences)\n",
    "training_padded = pad_sequences(training_sequences,\n",
    "                                maxlen = max_length, \n",
    "                                padding = 'post',\n",
    "                                truncating = 'post')\n",
    "\n",
    "testing_sequences = tokenizer.texts_to_sequences(testing_sentences)\n",
    "testing_padded = pad_sequences(testing_sequences, \n",
    "                                maxlen = max_length,\n",
    "                                padding = 'post',\n",
    "                                truncating = 'post')"
   ]
  },
  {
   "cell_type": "code",
   "execution_count": null,
   "metadata": {},
   "outputs": [],
   "source": [
    "# changing the lists into arrays for the model\n",
    "training_padded = np.array(training_padded)\n",
    "training_labels = np.array(training_labels)\n",
    "testing_padded = np.array(testing_padded)\n",
    "testing_labels = np.array(testing_labels)"
   ]
  },
  {
   "cell_type": "code",
   "execution_count": null,
   "metadata": {},
   "outputs": [],
   "source": [
    "# creating the model\n",
    "model = tf.keras.Sequential([\n",
    "    tf.keras.layers.Embedding(vocab_size, embedding_dim),\n",
    "    tf.keras.layers.GlobalAveragePooling1D(),\n",
    "    tf.keras.layers.Dense(24, activation='relu'),\n",
    "    tf.keras.layers.Dense(1, activation='sigmoid')\n",
    "])\n",
    "\n",
    "model.compile(loss='binary_crossentropy', optimizer='adam', metrics=['accuracy'])"
   ]
  },
  {
   "cell_type": "code",
   "execution_count": null,
   "metadata": {},
   "outputs": [],
   "source": [
    "# model.summary()"
   ]
  },
  {
   "cell_type": "code",
   "execution_count": null,
   "metadata": {},
   "outputs": [],
   "source": [
    "# number of epochs to train the model\n",
    "num_epochs = 2"
   ]
  },
  {
   "cell_type": "code",
   "execution_count": null,
   "metadata": {},
   "outputs": [],
   "source": [
    "# training and testing the model\n",
    "history = model.fit(training_padded, \n",
    "                    training_labels, \n",
    "                    epochs=num_epochs, \n",
    "                    validation_data=(testing_padded, \n",
    "                                     testing_labels), \n",
    "                    verbose=2)"
   ]
  },
  {
   "cell_type": "code",
   "execution_count": null,
   "metadata": {},
   "outputs": [],
   "source": [
    "# plotting the accuracy and loss\n",
    "def plot_graphs(history, string):\n",
    "  plt.plot(history.history[string])\n",
    "  plt.plot(history.history['val_'+string])\n",
    "  plt.xlabel(\"Epochs\")\n",
    "  plt.ylabel(string)\n",
    "  plt.legend([string, 'val_'+string])\n",
    "  plt.show()\n",
    "  \n",
    "plot_graphs(history, \"accuracy\")\n",
    "plot_graphs(history, \"loss\")"
   ]
  },
  {
   "cell_type": "code",
   "execution_count": null,
   "metadata": {},
   "outputs": [],
   "source": [
    "pred = model.predict(testing_padded)"
   ]
  },
  {
   "cell_type": "code",
   "execution_count": null,
   "metadata": {},
   "outputs": [],
   "source": [
    "auc = roc_auc_score(testing_labels, pred)\n",
    "gini = 2 * auc - 1\n",
    "gini"
   ]
  },
  {
   "cell_type": "code",
   "execution_count": null,
   "metadata": {},
   "outputs": [],
   "source": []
  }
 ],
 "metadata": {
  "kernelspec": {
   "display_name": "base",
   "language": "python",
   "name": "python3"
  },
  "language_info": {
   "codemirror_mode": {
    "name": "ipython",
    "version": 3
   },
   "file_extension": ".py",
   "mimetype": "text/x-python",
   "name": "python",
   "nbconvert_exporter": "python",
   "pygments_lexer": "ipython3",
   "version": "3.9.12"
  }
 },
 "nbformat": 4,
 "nbformat_minor": 2
}
