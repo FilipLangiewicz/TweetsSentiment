{
 "cells": [
  {
   "cell_type": "code",
   "execution_count": 115,
   "metadata": {},
   "outputs": [],
   "source": [
    "import tensorflow as tf\n",
    "from tensorflow import keras\n",
    "from tensorflow.keras.preprocessing.text import Tokenizer\n",
    "from tensorflow.keras.preprocessing.sequence import pad_sequences\n",
    "import pandas as pd\n",
    "import numpy as np\n",
    "import matplotlib.pyplot as plt\n",
    "from nltk.stem import WordNetLemmatizer\n",
    "from sklearn.feature_extraction.text import CountVectorizer\n",
    "import re\n",
    "import contractions\n"
   ]
  },
  {
   "cell_type": "code",
   "execution_count": 129,
   "metadata": {},
   "outputs": [],
   "source": [
    "# Read the CSV file\n",
    "x_train = pd.read_csv('../data/x_train.csv')\n",
    "x_valid = pd.read_csv('../data/x_valid.csv')\n",
    "y_train = pd.read_csv('../data/y_train.csv')\n",
    "y_valid = pd.read_csv('../data/y_valid.csv')\n"
   ]
  },
  {
   "cell_type": "code",
   "execution_count": 130,
   "metadata": {},
   "outputs": [],
   "source": [
    "x_train = x_train.drop(['ID', 'Date', 'flag', 'User'], axis = 'columns')\n",
    "x_train['Target'] = x_train['Target'].replace(4, 1)\n",
    "x_train['Text'] = x_train['Text'].replace(r\"@\\w+\", \"\", regex=True)\n",
    "x_train['Text'] = x_train['Text'].apply(lambda x: contractions.fix(x))\n",
    "x_train['Text'] = x_train['Text'].apply(lambda x: re.sub(r'[^\\w\\s]', '', x))\n",
    "x_train['Text'] = x_train['Text'].apply(lambda x: re.sub(r'http\\S+', '', x))\n",
    "x_train['Text'] = x_train['Text'].str.lower()\n",
    "x_train['Text'] = x_train[\"Text\"].apply(lambda x: \" \".join([w for w in x.split() if len(w)>=2]))\n",
    "tokenized_tweet = x_train['Text'].apply(lambda x: x.split())\n",
    "wnl = WordNetLemmatizer()\n",
    "tokenized_tweet = tokenized_tweet.apply(lambda s: [wnl.lemmatize(word, pos=\"v\") for word in s]) # lemmatization\n",
    "combined_sentences = [' '.join(tokens) for tokens in tokenized_tweet]\n",
    "x_train['Text'] = combined_sentences\n",
    "bow_vectorizer = CountVectorizer(max_df = 0.90, min_df = 2, max_features = 1000, stop_words='english')\n",
    "bow = bow_vectorizer.fit_transform(x_train['Text'])\n"
   ]
  },
  {
   "cell_type": "code",
   "execution_count": 131,
   "metadata": {},
   "outputs": [],
   "source": [
    "x_valid = x_valid.drop(['ID', 'Date', 'flag', 'User'], axis = 'columns')\n",
    "x_valid['Target'] = x_valid['Target'].replace(4, 1)\n",
    "x_valid['Text'] = x_valid['Text'].replace(r\"@\\w+\", \"\", regex=True)\n",
    "x_valid['Text'] = x_valid['Text'].apply(lambda x: contractions.fix(x))\n",
    "x_valid['Text'] = x_valid['Text'].apply(lambda x: re.sub(r'[^\\w\\s]', '', x))\n",
    "x_valid['Text'] = x_valid['Text'].apply(lambda x: re.sub(r'http\\S+', '', x))\n",
    "x_valid['Text'] = x_valid['Text'].str.lower()\n",
    "x_valid['Text'] = x_valid[\"Text\"].apply(lambda x: \" \".join([w for w in x.split() if len(w)>=2]))\n",
    "tokenized_tweet = x_valid['Text'].apply(lambda x: x.split())\n",
    "wnl = WordNetLemmatizer()\n",
    "tokenized_tweet = tokenized_tweet.apply(lambda s: [wnl.lemmatize(word, pos=\"v\") for word in s]) # lemmatization\n",
    "combined_sentences = [' '.join(tokens) for tokens in tokenized_tweet]\n",
    "x_valid['Text'] = combined_sentences\n",
    "bow_vectorizer = CountVectorizer(max_df = 0.90, min_df = 2, max_features = 1000, stop_words='english')\n",
    "bow = bow_vectorizer.fit_transform(x_valid['Text'])"
   ]
  },
  {
   "cell_type": "code",
   "execution_count": 132,
   "metadata": {},
   "outputs": [
    {
     "data": {
      "text/html": [
       "<div>\n",
       "<style scoped>\n",
       "    .dataframe tbody tr th:only-of-type {\n",
       "        vertical-align: middle;\n",
       "    }\n",
       "\n",
       "    .dataframe tbody tr th {\n",
       "        vertical-align: top;\n",
       "    }\n",
       "\n",
       "    .dataframe thead th {\n",
       "        text-align: right;\n",
       "    }\n",
       "</style>\n",
       "<table border=\"1\" class=\"dataframe\">\n",
       "  <thead>\n",
       "    <tr style=\"text-align: right;\">\n",
       "      <th></th>\n",
       "      <th>Target</th>\n",
       "      <th>Text</th>\n",
       "    </tr>\n",
       "  </thead>\n",
       "  <tbody>\n",
       "    <tr>\n",
       "      <th>0</th>\n",
       "      <td>0</td>\n",
       "      <td>tierd and it be school tomorrow last week atleast</td>\n",
       "    </tr>\n",
       "    <tr>\n",
       "      <th>1</th>\n",
       "      <td>0</td>\n",
       "      <td>twitter get bore bore everydayno star want rep...</td>\n",
       "    </tr>\n",
       "    <tr>\n",
       "      <th>2</th>\n",
       "      <td>1</td>\n",
       "      <td>be watch guy ripley right nowhahahilarious</td>\n",
       "    </tr>\n",
       "    <tr>\n",
       "      <th>3</th>\n",
       "      <td>0</td>\n",
       "      <td>that be the way indoor stadium toilets be</td>\n",
       "    </tr>\n",
       "    <tr>\n",
       "      <th>4</th>\n",
       "      <td>1</td>\n",
       "      <td>it must be all that bike rid</td>\n",
       "    </tr>\n",
       "    <tr>\n",
       "      <th>...</th>\n",
       "      <td>...</td>\n",
       "      <td>...</td>\n",
       "    </tr>\n",
       "    <tr>\n",
       "      <th>220196</th>\n",
       "      <td>0</td>\n",
       "      <td>wantd 2b comedian when lil boy memrize commerc...</td>\n",
       "    </tr>\n",
       "    <tr>\n",
       "      <th>220197</th>\n",
       "      <td>0</td>\n",
       "      <td>omg cannot believe jay leno be go off the air</td>\n",
       "    </tr>\n",
       "    <tr>\n",
       "      <th>220198</th>\n",
       "      <td>0</td>\n",
       "      <td>do not know my days be all mess up since get o...</td>\n",
       "    </tr>\n",
       "    <tr>\n",
       "      <th>220199</th>\n",
       "      <td>0</td>\n",
       "      <td>so be guessin mean midnight pacific time</td>\n",
       "    </tr>\n",
       "    <tr>\n",
       "      <th>220200</th>\n",
       "      <td>0</td>\n",
       "      <td>shit fuckin fever fuckin body think be go to d...</td>\n",
       "    </tr>\n",
       "  </tbody>\n",
       "</table>\n",
       "<p>220201 rows × 2 columns</p>\n",
       "</div>"
      ],
      "text/plain": [
       "        Target                                               Text\n",
       "0            0  tierd and it be school tomorrow last week atleast\n",
       "1            0  twitter get bore bore everydayno star want rep...\n",
       "2            1         be watch guy ripley right nowhahahilarious\n",
       "3            0          that be the way indoor stadium toilets be\n",
       "4            1                       it must be all that bike rid\n",
       "...        ...                                                ...\n",
       "220196       0  wantd 2b comedian when lil boy memrize commerc...\n",
       "220197       0      omg cannot believe jay leno be go off the air\n",
       "220198       0  do not know my days be all mess up since get o...\n",
       "220199       0           so be guessin mean midnight pacific time\n",
       "220200       0  shit fuckin fever fuckin body think be go to d...\n",
       "\n",
       "[220201 rows x 2 columns]"
      ]
     },
     "execution_count": 132,
     "metadata": {},
     "output_type": "execute_result"
    }
   ],
   "source": [
    "x_valid"
   ]
  },
  {
   "cell_type": "code",
   "execution_count": 133,
   "metadata": {},
   "outputs": [],
   "source": [
    "training_sentences = x_train['Text'].tolist()\n",
    "testing_sentences = x_valid['Text'].tolist()\n"
   ]
  },
  {
   "cell_type": "code",
   "execution_count": 134,
   "metadata": {},
   "outputs": [],
   "source": [
    "training_labels = x_train['Target'].tolist()\n",
    "testing_labels = x_valid['Target'].tolist()\n"
   ]
  },
  {
   "cell_type": "code",
   "execution_count": 137,
   "metadata": {},
   "outputs": [],
   "source": [
    "vocab_size = 100000\n",
    "oov_tok = \"<OOV>\"\n",
    "max_length = 120"
   ]
  },
  {
   "cell_type": "code",
   "execution_count": 138,
   "metadata": {},
   "outputs": [],
   "source": [
    "tokenizer = Tokenizer(num_words=vocab_size, oov_token=oov_tok)\n",
    "tokenizer.fit_on_texts(training_sentences)\n",
    "\n",
    "word_index = tokenizer.word_index\n",
    "\n",
    "training_sequences = tokenizer.texts_to_sequences(training_sentences)\n",
    "training_padded = pad_sequences(training_sequences,\n",
    "                                maxlen = max_length, \n",
    "                                padding = 'post',\n",
    "                                truncating = 'post')\n",
    "\n",
    "testing_sequences = tokenizer.texts_to_sequences(testing_sentences)\n",
    "testing_padded = pad_sequences(testing_sequences, \n",
    "                                maxlen = max_length,\n",
    "                                padding = 'post',\n",
    "                                truncating = 'post')\n"
   ]
  },
  {
   "cell_type": "code",
   "execution_count": 139,
   "metadata": {},
   "outputs": [],
   "source": [
    "training_padded = np.array(training_padded)\n",
    "training_labels = np.array(training_labels)\n",
    "testing_padded = np.array(testing_padded)\n",
    "testing_labels = np.array(testing_labels)"
   ]
  },
  {
   "cell_type": "code",
   "execution_count": 141,
   "metadata": {},
   "outputs": [
    {
     "data": {
      "text/plain": [
       "((513801,), (513801, 120), (220201,), (220201, 120))"
      ]
     },
     "execution_count": 141,
     "metadata": {},
     "output_type": "execute_result"
    }
   ],
   "source": [
    "training_labels.shape, training_padded.shape, testing_labels.shape, testing_padded.shape"
   ]
  },
  {
   "cell_type": "code",
   "execution_count": 142,
   "metadata": {},
   "outputs": [],
   "source": [
    "embedding_dim = 16\n"
   ]
  },
  {
   "cell_type": "code",
   "execution_count": 144,
   "metadata": {},
   "outputs": [],
   "source": [
    "model = tf.keras.Sequential([\n",
    "    tf.keras.layers.Embedding(vocab_size, embedding_dim),\n",
    "    tf.keras.layers.GlobalAveragePooling1D(),\n",
    "    tf.keras.layers.Dense(24, activation='relu'),\n",
    "    tf.keras.layers.Dense(1, activation='sigmoid')\n",
    "])\n",
    "\n",
    "model.compile(loss='binary_crossentropy', optimizer='adam', metrics=['accuracy'])\n",
    "\n"
   ]
  },
  {
   "cell_type": "code",
   "execution_count": 145,
   "metadata": {},
   "outputs": [
    {
     "data": {
      "text/html": [
       "<pre style=\"white-space:pre;overflow-x:auto;line-height:normal;font-family:Menlo,'DejaVu Sans Mono',consolas,'Courier New',monospace\"><span style=\"font-weight: bold\">Model: \"sequential_9\"</span>\n",
       "</pre>\n"
      ],
      "text/plain": [
       "\u001b[1mModel: \"sequential_9\"\u001b[0m\n"
      ]
     },
     "metadata": {},
     "output_type": "display_data"
    },
    {
     "data": {
      "text/html": [
       "<pre style=\"white-space:pre;overflow-x:auto;line-height:normal;font-family:Menlo,'DejaVu Sans Mono',consolas,'Courier New',monospace\">┏━━━━━━━━━━━━━━━━━━━━━━━━━━━━━━━━━┳━━━━━━━━━━━━━━━━━━━━━━━━┳━━━━━━━━━━━━━━━┓\n",
       "┃<span style=\"font-weight: bold\"> Layer (type)                    </span>┃<span style=\"font-weight: bold\"> Output Shape           </span>┃<span style=\"font-weight: bold\">       Param # </span>┃\n",
       "┡━━━━━━━━━━━━━━━━━━━━━━━━━━━━━━━━━╇━━━━━━━━━━━━━━━━━━━━━━━━╇━━━━━━━━━━━━━━━┩\n",
       "│ embedding_20 (<span style=\"color: #0087ff; text-decoration-color: #0087ff\">Embedding</span>)        │ ?                      │   <span style=\"color: #00af00; text-decoration-color: #00af00\">0</span> (unbuilt) │\n",
       "├─────────────────────────────────┼────────────────────────┼───────────────┤\n",
       "│ global_average_pooling1d_9      │ ?                      │   <span style=\"color: #00af00; text-decoration-color: #00af00\">0</span> (unbuilt) │\n",
       "│ (<span style=\"color: #0087ff; text-decoration-color: #0087ff\">GlobalAveragePooling1D</span>)        │                        │               │\n",
       "├─────────────────────────────────┼────────────────────────┼───────────────┤\n",
       "│ dense_18 (<span style=\"color: #0087ff; text-decoration-color: #0087ff\">Dense</span>)                │ ?                      │   <span style=\"color: #00af00; text-decoration-color: #00af00\">0</span> (unbuilt) │\n",
       "├─────────────────────────────────┼────────────────────────┼───────────────┤\n",
       "│ dense_19 (<span style=\"color: #0087ff; text-decoration-color: #0087ff\">Dense</span>)                │ ?                      │   <span style=\"color: #00af00; text-decoration-color: #00af00\">0</span> (unbuilt) │\n",
       "└─────────────────────────────────┴────────────────────────┴───────────────┘\n",
       "</pre>\n"
      ],
      "text/plain": [
       "┏━━━━━━━━━━━━━━━━━━━━━━━━━━━━━━━━━┳━━━━━━━━━━━━━━━━━━━━━━━━┳━━━━━━━━━━━━━━━┓\n",
       "┃\u001b[1m \u001b[0m\u001b[1mLayer (type)                   \u001b[0m\u001b[1m \u001b[0m┃\u001b[1m \u001b[0m\u001b[1mOutput Shape          \u001b[0m\u001b[1m \u001b[0m┃\u001b[1m \u001b[0m\u001b[1m      Param #\u001b[0m\u001b[1m \u001b[0m┃\n",
       "┡━━━━━━━━━━━━━━━━━━━━━━━━━━━━━━━━━╇━━━━━━━━━━━━━━━━━━━━━━━━╇━━━━━━━━━━━━━━━┩\n",
       "│ embedding_20 (\u001b[38;5;33mEmbedding\u001b[0m)        │ ?                      │   \u001b[38;5;34m0\u001b[0m (unbuilt) │\n",
       "├─────────────────────────────────┼────────────────────────┼───────────────┤\n",
       "│ global_average_pooling1d_9      │ ?                      │   \u001b[38;5;34m0\u001b[0m (unbuilt) │\n",
       "│ (\u001b[38;5;33mGlobalAveragePooling1D\u001b[0m)        │                        │               │\n",
       "├─────────────────────────────────┼────────────────────────┼───────────────┤\n",
       "│ dense_18 (\u001b[38;5;33mDense\u001b[0m)                │ ?                      │   \u001b[38;5;34m0\u001b[0m (unbuilt) │\n",
       "├─────────────────────────────────┼────────────────────────┼───────────────┤\n",
       "│ dense_19 (\u001b[38;5;33mDense\u001b[0m)                │ ?                      │   \u001b[38;5;34m0\u001b[0m (unbuilt) │\n",
       "└─────────────────────────────────┴────────────────────────┴───────────────┘\n"
      ]
     },
     "metadata": {},
     "output_type": "display_data"
    },
    {
     "data": {
      "text/html": [
       "<pre style=\"white-space:pre;overflow-x:auto;line-height:normal;font-family:Menlo,'DejaVu Sans Mono',consolas,'Courier New',monospace\"><span style=\"font-weight: bold\"> Total params: </span><span style=\"color: #00af00; text-decoration-color: #00af00\">0</span> (0.00 B)\n",
       "</pre>\n"
      ],
      "text/plain": [
       "\u001b[1m Total params: \u001b[0m\u001b[38;5;34m0\u001b[0m (0.00 B)\n"
      ]
     },
     "metadata": {},
     "output_type": "display_data"
    },
    {
     "data": {
      "text/html": [
       "<pre style=\"white-space:pre;overflow-x:auto;line-height:normal;font-family:Menlo,'DejaVu Sans Mono',consolas,'Courier New',monospace\"><span style=\"font-weight: bold\"> Trainable params: </span><span style=\"color: #00af00; text-decoration-color: #00af00\">0</span> (0.00 B)\n",
       "</pre>\n"
      ],
      "text/plain": [
       "\u001b[1m Trainable params: \u001b[0m\u001b[38;5;34m0\u001b[0m (0.00 B)\n"
      ]
     },
     "metadata": {},
     "output_type": "display_data"
    },
    {
     "data": {
      "text/html": [
       "<pre style=\"white-space:pre;overflow-x:auto;line-height:normal;font-family:Menlo,'DejaVu Sans Mono',consolas,'Courier New',monospace\"><span style=\"font-weight: bold\"> Non-trainable params: </span><span style=\"color: #00af00; text-decoration-color: #00af00\">0</span> (0.00 B)\n",
       "</pre>\n"
      ],
      "text/plain": [
       "\u001b[1m Non-trainable params: \u001b[0m\u001b[38;5;34m0\u001b[0m (0.00 B)\n"
      ]
     },
     "metadata": {},
     "output_type": "display_data"
    }
   ],
   "source": [
    "model.summary()"
   ]
  },
  {
   "cell_type": "code",
   "execution_count": 146,
   "metadata": {},
   "outputs": [],
   "source": [
    "num_epochs = 30"
   ]
  },
  {
   "cell_type": "code",
   "execution_count": 147,
   "metadata": {},
   "outputs": [
    {
     "name": "stdout",
     "output_type": "stream",
     "text": [
      "Epoch 1/30\n",
      "16057/16057 - 281s - 17ms/step - accuracy: 0.8126 - loss: 0.4277 - val_accuracy: 0.8423 - val_loss: 0.3759\n",
      "Epoch 2/30\n",
      "16057/16057 - 249s - 16ms/step - accuracy: 0.8378 - loss: 0.3758 - val_accuracy: 0.8267 - val_loss: 0.3828\n",
      "Epoch 3/30\n",
      "16057/16057 - 245s - 15ms/step - accuracy: 0.8447 - loss: 0.3616 - val_accuracy: 0.8486 - val_loss: 0.3551\n",
      "Epoch 4/30\n",
      "16057/16057 - 261s - 16ms/step - accuracy: 0.8481 - loss: 0.3549 - val_accuracy: 0.8426 - val_loss: 0.3604\n",
      "Epoch 5/30\n",
      "16057/16057 - 313s - 20ms/step - accuracy: 0.8507 - loss: 0.3489 - val_accuracy: 0.8386 - val_loss: 0.3674\n",
      "Epoch 6/30\n",
      "16057/16057 - 279s - 17ms/step - accuracy: 0.8541 - loss: 0.3425 - val_accuracy: 0.8502 - val_loss: 0.3558\n",
      "Epoch 7/30\n",
      "16057/16057 - 285s - 18ms/step - accuracy: 0.8560 - loss: 0.3382 - val_accuracy: 0.8484 - val_loss: 0.3525\n",
      "Epoch 8/30\n",
      "16057/16057 - 304s - 19ms/step - accuracy: 0.8574 - loss: 0.3351 - val_accuracy: 0.8512 - val_loss: 0.3507\n",
      "Epoch 9/30\n",
      "16057/16057 - 285s - 18ms/step - accuracy: 0.8596 - loss: 0.3310 - val_accuracy: 0.8421 - val_loss: 0.3670\n",
      "Epoch 10/30\n",
      "16057/16057 - 277s - 17ms/step - accuracy: 0.8615 - loss: 0.3275 - val_accuracy: 0.8440 - val_loss: 0.3606\n",
      "Epoch 11/30\n",
      "16057/16057 - 266s - 17ms/step - accuracy: 0.8628 - loss: 0.3244 - val_accuracy: 0.8497 - val_loss: 0.3558\n",
      "Epoch 12/30\n",
      "16057/16057 - 263s - 16ms/step - accuracy: 0.8641 - loss: 0.3216 - val_accuracy: 0.8519 - val_loss: 0.3504\n",
      "Epoch 13/30\n",
      "16057/16057 - 267s - 17ms/step - accuracy: 0.8654 - loss: 0.3185 - val_accuracy: 0.8507 - val_loss: 0.3531\n",
      "Epoch 14/30\n",
      "16057/16057 - 255s - 16ms/step - accuracy: 0.8664 - loss: 0.3162 - val_accuracy: 0.8497 - val_loss: 0.3542\n",
      "Epoch 15/30\n",
      "16057/16057 - 257s - 16ms/step - accuracy: 0.8684 - loss: 0.3127 - val_accuracy: 0.8508 - val_loss: 0.3544\n",
      "Epoch 16/30\n",
      "16057/16057 - 253s - 16ms/step - accuracy: 0.8702 - loss: 0.3098 - val_accuracy: 0.8495 - val_loss: 0.3576\n",
      "Epoch 17/30\n",
      "16057/16057 - 251s - 16ms/step - accuracy: 0.8708 - loss: 0.3079 - val_accuracy: 0.8410 - val_loss: 0.3768\n",
      "Epoch 18/30\n",
      "16057/16057 - 250s - 16ms/step - accuracy: 0.8724 - loss: 0.3044 - val_accuracy: 0.8409 - val_loss: 0.3703\n",
      "Epoch 19/30\n",
      "16057/16057 - 250s - 16ms/step - accuracy: 0.8738 - loss: 0.3015 - val_accuracy: 0.8512 - val_loss: 0.3567\n",
      "Epoch 20/30\n",
      "16057/16057 - 250s - 16ms/step - accuracy: 0.8748 - loss: 0.2994 - val_accuracy: 0.8488 - val_loss: 0.3597\n",
      "Epoch 21/30\n",
      "16057/16057 - 249s - 16ms/step - accuracy: 0.8758 - loss: 0.2974 - val_accuracy: 0.8476 - val_loss: 0.3673\n",
      "Epoch 22/30\n",
      "16057/16057 - 260s - 16ms/step - accuracy: 0.8767 - loss: 0.2946 - val_accuracy: 0.8450 - val_loss: 0.3678\n",
      "Epoch 23/30\n",
      "16057/16057 - 274s - 17ms/step - accuracy: 0.8780 - loss: 0.2927 - val_accuracy: 0.8467 - val_loss: 0.3664\n",
      "Epoch 24/30\n",
      "16057/16057 - 265s - 17ms/step - accuracy: 0.8787 - loss: 0.2903 - val_accuracy: 0.8432 - val_loss: 0.3702\n",
      "Epoch 25/30\n",
      "16057/16057 - 258s - 16ms/step - accuracy: 0.8794 - loss: 0.2885 - val_accuracy: 0.8433 - val_loss: 0.3748\n",
      "Epoch 26/30\n",
      "16057/16057 - 249s - 16ms/step - accuracy: 0.8809 - loss: 0.2857 - val_accuracy: 0.8455 - val_loss: 0.3757\n",
      "Epoch 27/30\n",
      "16057/16057 - 245s - 15ms/step - accuracy: 0.8825 - loss: 0.2824 - val_accuracy: 0.8386 - val_loss: 0.3850\n",
      "Epoch 28/30\n",
      "16057/16057 - 246s - 15ms/step - accuracy: 0.8833 - loss: 0.2812 - val_accuracy: 0.8410 - val_loss: 0.3826\n",
      "Epoch 29/30\n",
      "16057/16057 - 244s - 15ms/step - accuracy: 0.8838 - loss: 0.2794 - val_accuracy: 0.8418 - val_loss: 0.3876\n",
      "Epoch 30/30\n",
      "16057/16057 - 245s - 15ms/step - accuracy: 0.8852 - loss: 0.2769 - val_accuracy: 0.8403 - val_loss: 0.3786\n"
     ]
    }
   ],
   "source": [
    "history = model.fit(training_padded, \n",
    "                    training_labels, \n",
    "                    epochs=num_epochs, \n",
    "                    validation_data=(testing_padded, \n",
    "                                     testing_labels), \n",
    "                    verbose=2)"
   ]
  },
  {
   "cell_type": "code",
   "execution_count": 148,
   "metadata": {},
   "outputs": [
    {
     "data": {
      "image/png": "[encoded data removed]",
      "text/plain": [
       "<Figure size 640x480 with 1 Axes>"
      ]
     },
     "metadata": {},
     "output_type": "display_data"
    },
    {
     "data": {
      "image/png": "[encoded data removed]",
      "text/plain": [
       "<Figure size 640x480 with 1 Axes>"
      ]
     },
     "metadata": {},
     "output_type": "display_data"
    }
   ],
   "source": [
    "def plot_graphs(history, string):\n",
    "  plt.plot(history.history[string])\n",
    "  plt.plot(history.history['val_'+string])\n",
    "  plt.xlabel(\"Epochs\")\n",
    "  plt.ylabel(string)\n",
    "  plt.legend([string, 'val_'+string])\n",
    "  plt.show()\n",
    "  \n",
    "plot_graphs(history, \"accuracy\")\n",
    "plot_graphs(history, \"loss\")"
   ]
  },
  {
   "cell_type": "code",
   "execution_count": null,
   "metadata": {},
   "outputs": [],
   "source": []
  }
 ],
 "metadata": {
  "kernelspec": {
   "display_name": "base",
   "language": "python",
   "name": "python3"
  },
  "language_info": {
   "codemirror_mode": {
    "name": "ipython",
    "version": 3
   },
   "file_extension": ".py",
   "mimetype": "text/x-python",
   "name": "python",
   "nbconvert_exporter": "python",
   "pygments_lexer": "ipython3",
   "version": "3.9.18"
  }
 },
 "nbformat": 4,
 "nbformat_minor": 2
}
